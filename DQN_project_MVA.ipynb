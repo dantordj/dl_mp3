{
 "cells": [
  {
   "cell_type": "markdown",
   "metadata": {
    "colab_type": "text",
    "id": "d02RlcWyb5OM"
   },
   "source": [
    "**You may need to install [OpenCV](https://pypi.python.org/pypi/opencv-python) and [scikit-video](http://www.scikit-video.org/stable/).**"
   ]
  },
  {
   "cell_type": "code",
   "execution_count": 3,
   "metadata": {
    "colab": {
     "base_uri": "https://localhost:8080/",
     "height": 291
    },
    "colab_type": "code",
    "id": "GT4EK_glb5OR",
    "outputId": "4342dac6-5434-4e43-edb0-468e8041e558"
   },
   "outputs": [
    {
     "name": "stdout",
     "output_type": "stream",
     "text": [
      "Collecting sk-video\n",
      "\u001b[?25l  Downloading https://files.pythonhosted.org/packages/dd/3f/ce848b8b2062ad1ccf1449094a740c775f6c761339f411e44f1e090f23a7/sk_video-1.1.10-py2.py3-none-any.whl (2.3MB)\n",
      "\u001b[K    100% |████████████████████████████████| 2.3MB 5.9MB/s \n",
      "\u001b[?25hRequirement already satisfied: numpy in /usr/local/lib/python3.6/dist-packages (from sk-video) (1.14.6)\n",
      "Requirement already satisfied: scipy in /usr/local/lib/python3.6/dist-packages (from sk-video) (1.1.0)\n",
      "Installing collected packages: sk-video\n",
      "Successfully installed sk-video-1.1.10\n"
     ]
    }
   ],
   "source": [
    "!pip install sk-video\n",
    "import keras\n",
    "import numpy as np\n",
    "import io\n",
    "import base64\n",
    "from IPython.display import HTML\n",
    "import skvideo.io\n",
    "import cv2\n",
    "import json\n",
    "\n",
    "from keras.models import Sequential,model_from_json\n",
    "from keras.layers.core import Dense, Flatten\n",
    "from keras.optimizers import sgd\n",
    "from keras.layers import Conv2D, MaxPooling2D, Activation, AveragePooling2D,Reshape,BatchNormalization"
   ]
  },
  {
   "cell_type": "markdown",
   "metadata": {
    "colab_type": "text",
    "id": "yPgm0o5Kb5Og"
   },
   "source": [
    "# MiniProject #3: Deep Reinforcement Learning"
   ]
  },
  {
   "cell_type": "markdown",
   "metadata": {
    "colab_type": "text",
    "id": "W0Vk1eAtb5Ow"
   },
   "source": [
    "__Notations__: $E_p$ is the expectation under probability $p$. Please justify each of your answer and widely comment your code."
   ]
  },
  {
   "cell_type": "markdown",
   "metadata": {
    "colab_type": "text",
    "id": "iwHsPhqRb5O7"
   },
   "source": [
    "# Context"
   ]
  },
  {
   "cell_type": "markdown",
   "metadata": {
    "colab_type": "text",
    "id": "6ytxfgL6b5O_"
   },
   "source": [
    "In a reinforcement learning algorithm, we modelize each step $t$ as an action $a_t$ obtained from a state $s_t$, i.e. $\\{(a_{t},s_{t})_{t\\leq T}\\}$ having the Markov property. We consider a discount factor $\\gamma \\in [0,1]$ that ensures convergence. The goal is to find among all the policies $\\pi$, one that maximizes the expected reward:\n",
    "\n",
    "\\begin{equation*}\n",
    "R(\\pi)=\\sum_{t\\leq T}E_{p^{\\pi}}[\\gamma^t r(s_{t},a_{t})] \\> ,\n",
    "\\end{equation*}\n",
    "\n",
    "where: \n",
    "\\begin{equation*}p^{\\pi}(a_{0},a_{1},s_{1},...,a_{T},s_{T})=p(a_{0})\\prod_{t=1}^{T}\\pi(a_{t}|s_{t})p(s_{t+1}|s_{t},a_{t}) \\> .\n",
    "\\end{equation*}\n",
    "\n",
    "We note the $Q$-function:\n",
    "\n",
    "\\begin{equation*}Q^\\pi(s,a)=E_{p^{\\pi}}[\\sum_{t\\leq T}\\gamma^{t}r(s_{t},a_{t})|s_{0}=s,a_{0}=a] \\> .\n",
    "\\end{equation*}\n",
    "\n",
    "Thus, the optimal Q function is:\n",
    "\\begin{equation*}\n",
    "Q^*(s,a)=\\max_{\\pi}Q^\\pi(s,a) \\> .\n",
    "\\end{equation*}\n",
    "\n",
    "In this project, we will apply the deep reinforcement learning techniques to a simple game: an agent will have to learn from scratch a policy that will permit it maximizing a reward."
   ]
  },
  {
   "cell_type": "markdown",
   "metadata": {
    "colab_type": "text",
    "id": "dx2x7Lxpb5PB"
   },
   "source": [
    "## The environment, the agent and the game"
   ]
  },
  {
   "cell_type": "markdown",
   "metadata": {
    "colab_type": "text",
    "id": "e0uDfwtzb5PD"
   },
   "source": [
    "### The environment"
   ]
  },
  {
   "cell_type": "markdown",
   "metadata": {
    "colab_type": "text",
    "id": "XDg-k7-3b5PF"
   },
   "source": [
    "```Environment``` is an abstract class that represents the states, rewards, and actions to obtain the new state."
   ]
  },
  {
   "cell_type": "code",
   "execution_count": 0,
   "metadata": {
    "colab": {},
    "colab_type": "code",
    "id": "24a6rny6b5PH"
   },
   "outputs": [],
   "source": [
    "class Environment(object):\n",
    "    def __init__(self):\n",
    "        pass\n",
    "\n",
    "    def act(self, act):\n",
    "        \"\"\"\n",
    "        One can act on the environment and obtain its reaction:\n",
    "        - the new state\n",
    "        - the reward of the new state\n",
    "        - should we continue the game?\n",
    "\n",
    "        :return: state, reward, game_over\n",
    "        \"\"\"\n",
    "        pass\n",
    "\n",
    "\n",
    "    def reset(self):\n",
    "        \"\"\"\n",
    "        Reinitialize the environment to a random state and returns\n",
    "        the original state\n",
    "\n",
    "        :return: state\n",
    "        \"\"\"\n",
    "        pass\n",
    "    \n",
    "    def draw(self):\n",
    "        \"\"\"\n",
    "        Visualize in the console or graphically the current state\n",
    "        \"\"\"\n",
    "        pass"
   ]
  },
  {
   "cell_type": "markdown",
   "metadata": {
    "colab_type": "text",
    "id": "QJDSxyTtb5PT"
   },
   "source": [
    "The method ```act``` allows to act on the environment at a given state $s_t$ (stored internally), via action $a_t$. The method will return the new state $s_{t+1}$, the reward $r(s_{t},a_{t})$ and determines if $t\\leq T$ (*game_over*).\n",
    "\n",
    "The method ```reset``` simply reinitializes the environment to a random state $s_0$.\n",
    "\n",
    "The method ```draw``` displays the current state $s_t$ (this is useful to check the behavior of the Agent).\n",
    "\n",
    "We modelize $s_t$ as a tensor, while $a_t$ is an integer."
   ]
  },
  {
   "cell_type": "markdown",
   "metadata": {
    "colab_type": "text",
    "id": "1tWhGTYpb5PU"
   },
   "source": [
    "### The Agent"
   ]
  },
  {
   "cell_type": "markdown",
   "metadata": {
    "colab_type": "text",
    "id": "6XO1FR-Fb5PW"
   },
   "source": [
    "The goal of the ```Agent``` is to interact with the ```Environment``` by proposing actions $a_t$ obtained from a given state $s_t$ to attempt to maximize its __reward__ $r(s_t,a_t)$. We propose the following abstract class:"
   ]
  },
  {
   "cell_type": "code",
   "execution_count": 0,
   "metadata": {
    "colab": {},
    "colab_type": "code",
    "id": "dBxqJi8jb5Pf"
   },
   "outputs": [],
   "source": [
    "class Agent(object):\n",
    "    def __init__(self, epsilon=0.1, n_action=4):\n",
    "        self.epsilon = epsilon\n",
    "        self.n_action = n_action\n",
    "    \n",
    "    def set_epsilon(self,e):\n",
    "        self.epsilon = e\n",
    "\n",
    "    def act(self,s,train=True):\n",
    "        \"\"\" This function should return the next action to do:\n",
    "        an integer between 0 and 4 (not included) with a random exploration of epsilon\"\"\"\n",
    "        if train:\n",
    "            if np.random.rand() <= self.epsilon:\n",
    "                a = np.random.randint(0, self.n_action, size=1)[0]\n",
    "            else:\n",
    "                a = self.learned_act(s)\n",
    "        else: # in some cases, this can improve the performance.. remove it if poor performances\n",
    "            a = self.learned_act(s)\n",
    "\n",
    "        return a\n",
    "\n",
    "    def learned_act(self,s):\n",
    "        \"\"\" Act via the policy of the agent, from a given state s\n",
    "        it proposes an action a\"\"\"\n",
    "        pass\n",
    "\n",
    "    def reinforce(self, s, n_s, a, r, game_over_):\n",
    "        \"\"\" This function is the core of the learning algorithm. \n",
    "        It takes as an input the current state s_, the next state n_s_\n",
    "        the action a_ used to move from s_ to n_s_ and the reward r_.\n",
    "        \n",
    "        Its goal is to learn a policy.\n",
    "        \"\"\"\n",
    "        pass\n",
    "\n",
    "    def save(self):\n",
    "        \"\"\" This function returns basic stats if applicable: the\n",
    "        loss and/or the model\"\"\"\n",
    "        pass\n",
    "\n",
    "    def load(self):\n",
    "        \"\"\" This function allows to restore a model\"\"\"\n",
    "        pass"
   ]
  },
  {
   "cell_type": "markdown",
   "metadata": {
    "colab_type": "text",
    "id": "mPdBuIWUb5Pm"
   },
   "source": [
    "***\n",
    "__Question 1__:\n",
    "Explain the function act. Why is ```epsilon``` essential?"
   ]
  },
  {
   "cell_type": "markdown",
   "metadata": {
    "colab_type": "text",
    "id": "qbqwQX8Jb5Pp"
   },
   "source": [
    "> Epsilon is essential because it allows the agent to explore the environment. Otherwise, the agent will always act according to the policy it has learned until now and the policy won't get better because the agent won't explore other possibilities."
   ]
  },
  {
   "cell_type": "markdown",
   "metadata": {
    "colab_type": "text",
    "id": "-9S7vLnPb5Pr"
   },
   "source": [
    "***\n",
    "### The Game\n",
    "The ```Agent``` and the ```Environment``` work in an interlaced way as in the following (take some time to understand this code as it is the core of the project)\n",
    "\n",
    "```python"
   ]
  },
  {
   "cell_type": "code",
   "execution_count": 6,
   "metadata": {
    "colab": {
     "base_uri": "https://localhost:8080/",
     "height": 252
    },
    "colab_type": "code",
    "id": "IFvv34g8b5Pt",
    "outputId": "2e7c0ca2-ff48-4bff-fcb6-6ccc53a7f32e"
   },
   "outputs": [
    {
     "ename": "TypeError",
     "evalue": "ignored",
     "output_type": "error",
     "traceback": [
      "\u001b[0;31m---------------------------------------------------------------------------\u001b[0m",
      "\u001b[0;31mTypeError\u001b[0m                                 Traceback (most recent call last)",
      "\u001b[0;32m<ipython-input-6-05f2efd16fc9>\u001b[0m in \u001b[0;36m<module>\u001b[0;34m()\u001b[0m\n\u001b[1;32m     27\u001b[0m         \u001b[0;31m# and if the games end\u001b[0m\u001b[0;34m\u001b[0m\u001b[0;34m\u001b[0m\u001b[0;34m\u001b[0m\u001b[0m\n\u001b[1;32m     28\u001b[0m         \u001b[0mprev_state\u001b[0m \u001b[0;34m=\u001b[0m \u001b[0mstate\u001b[0m\u001b[0;34m\u001b[0m\u001b[0;34m\u001b[0m\u001b[0m\n\u001b[0;32m---> 29\u001b[0;31m         \u001b[0mstate\u001b[0m\u001b[0;34m,\u001b[0m \u001b[0mreward\u001b[0m\u001b[0;34m,\u001b[0m \u001b[0mgame_over\u001b[0m \u001b[0;34m=\u001b[0m \u001b[0menv\u001b[0m\u001b[0;34m.\u001b[0m\u001b[0mact\u001b[0m\u001b[0;34m(\u001b[0m\u001b[0maction\u001b[0m\u001b[0;34m)\u001b[0m\u001b[0;34m\u001b[0m\u001b[0;34m\u001b[0m\u001b[0m\n\u001b[0m\u001b[1;32m     30\u001b[0m \u001b[0;34m\u001b[0m\u001b[0m\n\u001b[1;32m     31\u001b[0m         \u001b[0;31m# Update the counters\u001b[0m\u001b[0;34m\u001b[0m\u001b[0;34m\u001b[0m\u001b[0;34m\u001b[0m\u001b[0m\n",
      "\u001b[0;31mTypeError\u001b[0m: 'NoneType' object is not iterable"
     ]
    }
   ],
   "source": [
    "\n",
    "\n",
    "epoch = 300\n",
    "env = Environment()\n",
    "agent = Agent()\n",
    "\n",
    "\n",
    "# Number of won games\n",
    "score = 0\n",
    "loss = 0\n",
    "\n",
    "\n",
    "for e in range(epoch):\n",
    "    # At each epoch, we restart to a fresh game and get the initial state\n",
    "    state = env.reset()\n",
    "    # This assumes that the games will end\n",
    "    game_over = False\n",
    "\n",
    "    win = 0\n",
    "    lose = 0\n",
    "    \n",
    "    while not game_over:\n",
    "        # The agent performs an action\n",
    "        action = agent.act(state)\n",
    "\n",
    "        # Apply an action to the environment, get the next state, the reward\n",
    "        # and if the games end\n",
    "        prev_state = state\n",
    "        state, reward, game_over = env.act(action)\n",
    "\n",
    "        # Update the counters\n",
    "        if reward > 0:\n",
    "            win = win + reward\n",
    "        if reward < 0:\n",
    "            lose = lose -reward\n",
    "\n",
    "        # Apply the reinforcement strategy\n",
    "        loss = agent.reinforce(prev_state, state,  action, reward, game_over)\n",
    "\n",
    "    # Save as a mp4\n",
    "    if e % 10 == 0:\n",
    "        env.draw(e)\n",
    "\n",
    "    # Update stats\n",
    "    score += win-lose\n",
    "\n",
    "    print(\"Epoch {:03d}/{:03d} | Loss {:.4f} | Win/lose count {}/{} ({})\"\n",
    "          .format(e, epoch, loss, win, lose, win-lose))\n",
    "    agent.save()\n"
   ]
  },
  {
   "cell_type": "markdown",
   "metadata": {
    "colab_type": "text",
    "id": "2pyW3vr6b5P6"
   },
   "source": [
    "# The game, *eat cheese*"
   ]
  },
  {
   "cell_type": "markdown",
   "metadata": {
    "colab_type": "text",
    "id": "o2iwBdGLb5P_"
   },
   "source": [
    "A rat runs on an island and tries to eat as much as possible. The island is subdivided into $N\\times N$ cells, in which there are cheese (+0.5) and poisonous cells (-1). The rat has a visibility of 2 cells (thus it can see $5^2$ cells). The rat is given a time $T$ to accumulate as much food as possible. It can perform 4 actions: going up, down, left, right. \n",
    "\n",
    "The goal is to code an agent to solve this task that will learn by trial and error. We propose the following environment:"
   ]
  },
  {
   "cell_type": "code",
   "execution_count": 0,
   "metadata": {
    "colab": {},
    "colab_type": "code",
    "id": "4VGFagAGb5QB"
   },
   "outputs": [],
   "source": [
    "class Environment(object):\n",
    "    def __init__(self, grid_size=10, max_time=500, temperature=0.1):\n",
    "        grid_size = grid_size+4\n",
    "        self.grid_size = grid_size\n",
    "        self.max_time = max_time\n",
    "        self.temperature = temperature\n",
    "\n",
    "        #board on which one plays\n",
    "        self.board = np.zeros((grid_size,grid_size))\n",
    "        self.position = np.zeros((grid_size,grid_size))\n",
    "\n",
    "        # coordinate of the cat\n",
    "        self.x = 0\n",
    "        self.y = 1\n",
    "\n",
    "        # self time\n",
    "        self.t = 0\n",
    "\n",
    "        self.scale=16\n",
    "\n",
    "        self.to_draw = np.zeros((max_time+2, grid_size*self.scale, grid_size*self.scale, 3))\n",
    "\n",
    "\n",
    "    def draw(self,e):\n",
    "        print(np.sum(self.to_draw))\n",
    "        skvideo.io.vwrite(str(e) + '.mp4', self.to_draw)\n",
    "\n",
    "    def get_frame(self,t):\n",
    "        b = np.zeros((self.grid_size,self.grid_size,3))+128\n",
    "        b[self.board>0,0] = 256\n",
    "        b[self.board < 0, 2] = 256\n",
    "        b[self.x,self.y,:]=256\n",
    "        b[-2:,:,:]=0\n",
    "        b[:,-2:,:]=0\n",
    "        b[:2,:,:]=0\n",
    "        b[:,:2,:]=0\n",
    "        \n",
    "        b =  cv2.resize(b, None, fx=self.scale, fy=self.scale, interpolation=cv2.INTER_NEAREST)\n",
    "\n",
    "        self.to_draw[t,:,:,:]=b\n",
    "\n",
    "\n",
    "    def act(self, action):\n",
    "        \"\"\"This function returns the new state, reward and decides if the\n",
    "        game ends.\"\"\"\n",
    "\n",
    "        self.get_frame(int(self.t))\n",
    "\n",
    "        self.position = np.zeros((self.grid_size, self.grid_size))\n",
    "\n",
    "        self.position[0:2,:]= -1\n",
    "        self.position[:,0:2] = -1\n",
    "        self.position[-2:, :] = -1\n",
    "        self.position[-2:, :] = -1\n",
    "\n",
    "        self.position[self.x, self.y] = 1\n",
    "        if action == 0:\n",
    "            if self.x == self.grid_size-3:\n",
    "                self.x = self.x-1\n",
    "            else:\n",
    "                self.x = self.x + 1\n",
    "        elif action == 1:\n",
    "            if self.x == 2:\n",
    "                self.x = self.x+1\n",
    "            else:\n",
    "                self.x = self.x-1\n",
    "        elif action == 2:\n",
    "            if self.y == self.grid_size - 3:\n",
    "                self.y = self.y - 1\n",
    "            else:\n",
    "                self.y = self.y + 1\n",
    "        elif action == 3:\n",
    "            if self.y == 2:\n",
    "                self.y = self.y + 1\n",
    "            else:\n",
    "                self.y = self.y - 1\n",
    "        else:\n",
    "            RuntimeError('Error: action not recognized')\n",
    "\n",
    "        self.t = self.t + 1\n",
    "        \n",
    "        reward = self.board[self.x, self.y]\n",
    "\n",
    "        \n",
    "        self.board[self.x, self.y] = 0\n",
    "        game_over = self.t > self.max_time\n",
    "        state = np.concatenate((self.board.reshape(self.grid_size, self.grid_size,1),\n",
    "                        self.position.reshape(self.grid_size, self.grid_size,1)),axis=2)\n",
    "        state = state[self.x-2:self.x+3,self.y-2:self.y+3,:]\n",
    "\n",
    "        return state, reward, game_over\n",
    "\n",
    "    def reset(self):\n",
    "        \"\"\"This function resets the game and returns the initial state\"\"\"\n",
    "\n",
    "        self.x = np.random.randint(3, self.grid_size-3, size=1)[0]\n",
    "        self.y = np.random.randint(3, self.grid_size-3, size=1)[0]\n",
    "\n",
    "\n",
    "        bonus = 0.5*np.random.binomial(1,self.temperature,size=self.grid_size**2)\n",
    "        bonus = bonus.reshape(self.grid_size,self.grid_size)\n",
    "\n",
    "        malus = -1.0*np.random.binomial(1,self.temperature,size=self.grid_size**2)\n",
    "        malus = malus.reshape(self.grid_size, self.grid_size)\n",
    "\n",
    "        self.to_draw = np.zeros((self.max_time+2, self.grid_size*self.scale, self.grid_size*self.scale, 3))\n",
    "\n",
    "\n",
    "        malus[bonus>0]=0\n",
    "\n",
    "        self.board = bonus + malus\n",
    "\n",
    "        self.position = np.zeros((self.grid_size, self.grid_size))\n",
    "        self.position[0:2,:]= -1\n",
    "        self.position[:,0:2] = -1\n",
    "        self.position[-2:, :] = -1\n",
    "        self.position[-2:, :] = -1\n",
    "        self.board[self.x,self.y] = 0\n",
    "        self.t = 0\n",
    "\n",
    "        state = np.concatenate((\n",
    "                               self.board.reshape(self.grid_size, self.grid_size,1),\n",
    "                        self.position.reshape(self.grid_size, self.grid_size,1)),axis=2)\n",
    "\n",
    "        state = state[self.x - 2:self.x + 3, self.y - 2:self.y + 3, :]\n",
    "        return state"
   ]
  },
  {
   "cell_type": "markdown",
   "metadata": {
    "colab_type": "text",
    "id": "v5iS2iZvb5QI"
   },
   "source": [
    "The following elements are important because they correspond to the hyper parameters for this project:"
   ]
  },
  {
   "cell_type": "code",
   "execution_count": 0,
   "metadata": {
    "colab": {},
    "colab_type": "code",
    "id": "EgPyDkdEb5QK"
   },
   "outputs": [],
   "source": [
    "# parameters\n",
    "size = 13\n",
    "T=200\n",
    "temperature=0.3\n",
    "epochs_train=2 # set small when debugging\n",
    "epochs_test=2 # set small when debugging\n",
    "\n",
    "# display videos\n",
    "def display_videos(name):\n",
    "    video = io.open(name, 'r+b').read()\n",
    "    encoded = base64.b64encode(video)\n",
    "    return '''<video alt=\"test\" controls>\n",
    "                <source src=\"data:video/mp4;base64,{0}\" type=\"video/mp4\" />\n",
    "             </video>'''.format(encoded.decode('ascii'))"
   ]
  },
  {
   "cell_type": "markdown",
   "metadata": {
    "colab_type": "text",
    "id": "O_P0C3jMb5QN"
   },
   "source": [
    "__Question 2__ Explain the use of the arrays ```position``` and ```board```."
   ]
  },
  {
   "cell_type": "markdown",
   "metadata": {
    "colab_type": "text",
    "id": "szxdVyN7b5QP"
   },
   "source": [
    "The array board describes the state of the board and the positions of the poisons and chesse. Once an object is consumed, the value is set to 0 so the board evolves when the agent interacts with the environment.\n",
    "The array position is used to describe the position of the agent on the board. The previous position is marked by a one, the borders are marked by a -1. \n",
    "\n",
    "\n",
    "\n",
    "\n"
   ]
  },
  {
   "cell_type": "markdown",
   "metadata": {
    "colab_type": "text",
    "id": "aTpgbYRgb5QQ"
   },
   "source": [
    "## Random Agent"
   ]
  },
  {
   "cell_type": "markdown",
   "metadata": {
    "colab_type": "text",
    "id": "d9GBeONjb5QR"
   },
   "source": [
    "***\n",
    "__Question 3__ Implement a random Agent (only ```learned_act``` needs to be implemented):"
   ]
  },
  {
   "cell_type": "code",
   "execution_count": 0,
   "metadata": {
    "colab": {},
    "colab_type": "code",
    "id": "jEI9dVenb5QS"
   },
   "outputs": [],
   "source": [
    "class RandomAgent(Agent):\n",
    "    def __init__(self):\n",
    "        super(RandomAgent, self).__init__()\n",
    "        pass\n",
    "\n",
    "    def learned_act(self, s):\n",
    "        i = np.random.randint(self.n_action)\n",
    "        return i\n",
    "    "
   ]
  },
  {
   "cell_type": "markdown",
   "metadata": {
    "colab_type": "text",
    "id": "BPD-zYrgb5QU"
   },
   "source": [
    "***\n",
    "***\n",
    "__Question 4__ Visualize the game moves. You need to fill in the following function for the evaluation:"
   ]
  },
  {
   "cell_type": "code",
   "execution_count": 0,
   "metadata": {
    "colab": {},
    "colab_type": "code",
    "id": "J-2MwLmJb5QV"
   },
   "outputs": [],
   "source": [
    "def test(agent,env,epochs,prefix=''):\n",
    "    # Number of won games\n",
    "    score = 0\n",
    "        \n",
    "    for e in range(epochs):\n",
    "        \n",
    "        ##### FILL IN HERE\n",
    "        # At each epoch, we restart to a fresh game and get the initial state\n",
    "        state = env.reset()\n",
    "        # This assumes that the games will end\n",
    "        game_over = False\n",
    "\n",
    "        win = 0\n",
    "        lose = 0\n",
    "\n",
    "        while not game_over:\n",
    "            # The agent performs an action\n",
    "            action = agent.act(state)\n",
    "\n",
    "            # Apply an action to the environment, get the next state, the reward\n",
    "            # and if the games end\n",
    "            prev_state = state\n",
    "            state, reward, game_over = env.act(action)\n",
    "\n",
    "            # Update the counters\n",
    "            if reward > 0:\n",
    "                win = win + reward\n",
    "            if reward < 0:\n",
    "                lose = lose -reward\n",
    "        # Save as a mp4\n",
    "        env.draw(prefix+str(e))\n",
    "\n",
    "        # Update stats\n",
    "        score = score + win-lose\n",
    "\n",
    "        print(\"Win/lose count {}/{}. Average score ({})\"\n",
    "              .format(win, lose, score/(1+e)))\n",
    "    print('Final score: '+str(score/epochs))"
   ]
  },
  {
   "cell_type": "code",
   "execution_count": 12,
   "metadata": {
    "colab": {
     "base_uri": "https://localhost:8080/",
     "height": 256
    },
    "colab_type": "code",
    "id": "7G11dJFbb5Qa",
    "outputId": "5cebd773-cda8-4314-c9b1-132903389005"
   },
   "outputs": [
    {
     "name": "stdout",
     "output_type": "stream",
     "text": [
      "3778609152.0\n",
      "Win/lose count 10.0/13.0. Average score (-3.0)\n",
      "3827990528.0\n",
      "Win/lose count 9.5/8.0. Average score (-0.75)\n",
      "Final score: -0.75\n"
     ]
    },
    {
     "data": {
      "text/html": [
       "<video alt=\"test\" controls>\n",
       "                <source src=\"data:video/mp4;base64,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\" type=\"video/mp4\" />\n",
       "             </video>"
      ],
      "text/plain": [
       "<IPython.core.display.HTML object>"
      ]
     },
     "execution_count": 12,
     "metadata": {
      "tags": []
     },
     "output_type": "execute_result"
    }
   ],
   "source": [
    "# Initialize the game\n",
    "env = Environment(grid_size=size, max_time=T,temperature=temperature)\n",
    "\n",
    "# Initialize the agent!\n",
    "agent = RandomAgent()\n",
    "\n",
    "test(agent,env,epochs_test,prefix='random')\n",
    "HTML(display_videos('random1.mp4'))"
   ]
  },
  {
   "cell_type": "markdown",
   "metadata": {
    "colab_type": "text",
    "id": "_ASsoPlib5Qh"
   },
   "source": [
    "***\n",
    "## DQN"
   ]
  },
  {
   "cell_type": "markdown",
   "metadata": {
    "colab_type": "text",
    "id": "gY4AL3Zqb5Qi"
   },
   "source": [
    "Let us assume here that $T=\\infty$.\n",
    "\n",
    "***\n",
    "__Question 5__ Let $\\pi$ be a policy, show that:\n",
    "\n",
    "\\begin{equation*}\n",
    "Q^{\\pi}(s,a)=E_{(s',a')\\sim p(.|s,a)}[r(s,a)+\\gamma Q^{\\pi}(s',a')]\n",
    "\\end{equation*}\n",
    "\n",
    "Then, show that for the optimal policy $\\pi^*$ (we assume its existence), the following holds: \n",
    "\n",
    "\\begin{equation*}\n",
    "Q^{*}(s,a)=E_{s'\\sim \\pi^*(.|s,a)}[r(s,a)+\\gamma\\max_{a'}Q^{*}(s',a')].\n",
    "\\end{equation*}\n",
    "Finally, deduce that a plausible objective is:\n",
    "\n",
    "\\begin{equation*}\n",
    "\\mathcal{L}(\\theta)=E_{s' \\sim \\pi^*(.|s,a)}\\Vert r+\\gamma\\max\\max_{a'}Q(s',a',\\theta)-Q(s,a,\\theta)\\Vert^{2}.\n",
    "\\end{equation*}\n",
    "\n",
    "\n"
   ]
  },
  {
   "cell_type": "markdown",
   "metadata": {
    "colab_type": "text",
    "id": "xCtuv5zrb5Qk"
   },
   "source": [
    "#### Answer Question 5\n",
    "\n",
    "$Q^\\pi(s,a)=E_{p^{\\pi}}[\\sum_{t\\leq T}\\gamma^{t}r(s_{t},a_{t})|s_{0}=s,a_{0}=a] \\> $\n",
    "If we marginalize the first term, we have : \n",
    "$Q^\\pi(s,a)=E_{p^{\\pi}}[\\sum_{t\\leq T}\\gamma^{t+1}r(s_{t},a_{t}) + r(s, a) |s_{0}=s,a_{0}=a]$. So : \n",
    "$Q^\\pi(s,a)=E_{(s',a')\\sim p(.|s,a)}[r(s,a)+\\gamma Q^{\\pi}(s',a')]$\n",
    "Then we want the optimal Q associated to the optimal policy. By taking the best action at state $s_{0}$ and then taking the best action according to the optimal policy, we get the following expression by defintion of $Q^*$: \n",
    "$Q^{*}(s,a)=E_{s'\\sim \\pi^*(.|s,a)}[r(s,a)+\\gamma\\max_{a'}Q^{*}(s',a')]$\n",
    "We deduce from this the expression of the objective $\\mathcal{L}(\\theta)$\n"
   ]
  },
  {
   "cell_type": "markdown",
   "metadata": {
    "colab_type": "text",
    "id": "yy7Kks5fb5Ql"
   },
   "source": [
    "***\n",
    "The DQN-learning algorithm relies on these derivations to train the parameters $\\theta$ of a Deep Neural Network:\n",
    "\n",
    "1. At the state $s_t$, select the action $a_t$ with best reward using $Q_t$ and store the results;\n",
    "\n",
    "2. Obtain the new state $s_{t+1}$ from the environment $p$;\n",
    "\n",
    "3. Store $(s_t,a_t,s_{t+1})$;\n",
    "\n",
    "4. Obtain $Q_{t+1}$ by minimizing  $\\mathcal{L}$ from a recovered batch from the previously stored results.\n",
    "\n",
    "***\n",
    "__Question 6__ Implement the class ```Memory``` that stores moves (in a replay buffer) via ```remember``` and provides a ```random_access``` to these. Specify a maximum memory size to avoid side effects. You can for example use a ```list()``` and set by default ```max_memory=100```."
   ]
  },
  {
   "cell_type": "code",
   "execution_count": 0,
   "metadata": {
    "colab": {},
    "colab_type": "code",
    "id": "i0Nd4u0sb5Qn"
   },
   "outputs": [],
   "source": [
    "class Memory(object):\n",
    "    def __init__(self, max_memory=100):\n",
    "        self.max_memory = max_memory\n",
    "        self.memory = list()\n",
    "\n",
    "    def remember(self, m):\n",
    "        if len(self.memory) > self.max_memory:\n",
    "            del self.memory[0]\n",
    "        self.memory.append(m)\n",
    "        \n",
    "\n",
    "    def random_access(self):\n",
    "        i = np.random.choice(range(len(self.memory)))\n",
    "        return self.memory[i]\n",
    "        "
   ]
  },
  {
   "cell_type": "markdown",
   "metadata": {
    "colab_type": "text",
    "id": "koO11u48b5Qt"
   },
   "source": [
    "***\n",
    "The pipeline we will use for training is given below:"
   ]
  },
  {
   "cell_type": "code",
   "execution_count": 0,
   "metadata": {
    "colab": {},
    "colab_type": "code",
    "id": "bBvPT5Lkb5Qu"
   },
   "outputs": [],
   "source": [
    "def train(agent,env,epoch,prefix=''):\n",
    "    # Number of won games\n",
    "    score = 0\n",
    "    loss = 0\n",
    "\n",
    "    for e in range(epoch):\n",
    "        # At each epoch, we restart to a fresh game and get the initial state\n",
    "        state = env.reset()\n",
    "        # This assumes that the games will terminate\n",
    "        game_over = False\n",
    "\n",
    "        win = 0\n",
    "        lose = 0\n",
    "\n",
    "        while not game_over:\n",
    "            # The agent performs an action\n",
    "            action = agent.act(state)\n",
    "\n",
    "            # Apply an action to the environment, get the next state, the reward\n",
    "            # and if the games end\n",
    "            prev_state = state\n",
    "            state, reward, game_over = env.act(action)\n",
    "\n",
    "            # Update the counters\n",
    "            if reward > 0:\n",
    "                win = win + reward\n",
    "            if reward < 0:\n",
    "                lose = lose -reward\n",
    "\n",
    "            # Apply the reinforcement strategy\n",
    "            loss = agent.reinforce(prev_state, state,  action, reward, game_over)\n",
    "\n",
    "        # Save as a mp4\n",
    "        if e % 10 == 0:\n",
    "            env.draw(prefix+str(e))\n",
    "\n",
    "        # Update stats\n",
    "        score += win-lose\n",
    "\n",
    "        print(\"Epoch {:03d}/{:03d} | Loss {:.4f} | Win/lose count {}/{} ({})\"\n",
    "              .format(e, epoch, loss, win, lose, win-lose))\n",
    "        agent.save(name_weights=prefix+'model.h5',name_model=prefix+'model.json')"
   ]
  },
  {
   "cell_type": "markdown",
   "metadata": {
    "colab_type": "text",
    "id": "ijhPhNLXb5Qy"
   },
   "source": [
    "***\n",
    "__Question 7__ Implement the DQN training algorithm using a cascade of fully connected layers. You can use different learning rate, batch size or memory size parameters. In particular, the loss might oscillate while the player will start to win the games. You have to find a good criterium."
   ]
  },
  {
   "cell_type": "code",
   "execution_count": 0,
   "metadata": {
    "colab": {},
    "colab_type": "code",
    "id": "1QBhxxjEb5Qz"
   },
   "outputs": [],
   "source": [
    "class DQN(Agent):\n",
    "    def __init__(self, grid_size,  epsilon = 0.1, memory_size=100, batch_size = 16,n_state=2):\n",
    "        super(DQN, self).__init__(epsilon = epsilon)\n",
    "\n",
    "        # Discount for Q learning\n",
    "        self.discount = 0.99\n",
    "        \n",
    "        self.grid_size = grid_size\n",
    "        \n",
    "        # number of state\n",
    "        self.n_state = n_state\n",
    "\n",
    "        # Memory\n",
    "        self.memory = Memory(memory_size)\n",
    "        \n",
    "        # Batch size when learning\n",
    "        self.batch_size = batch_size\n",
    "\n",
    "    def learned_act(self, s):\n",
    "        q_ = self.model.predict(s.reshape((1,5,5,self.n_state)))[0]\n",
    "        a = np.argmax(q_)\n",
    "        return a \n",
    "\n",
    "    def reinforce(self, s_, n_s_, a_, r_, game_over_):\n",
    "        # Two steps: first memorize the states, second learn from the pool\n",
    "\n",
    "        self.memory.remember([s_, n_s_, a_, r_, game_over_])\n",
    "        \n",
    "        input_states = np.zeros((self.batch_size, 5,5,self.n_state))\n",
    "        target_q = np.zeros((self.batch_size, 4))\n",
    "        \n",
    "        for i in range(self.batch_size):\n",
    "            ######## FILL IN\n",
    "            s_, n_s_, a_, r_, game_over_ = self.memory.random_access() \n",
    "            input_states[i] = s_\n",
    "            if game_over_:\n",
    "                ######## FILL IN\n",
    "                # print(s_.shape)\n",
    "                q_ = self.model.predict(s_.reshape((1,5,5,self.n_state)))[0]\n",
    "                q_[a_] = r_\n",
    "                target_q[i] = q_\n",
    "               \n",
    "            else:\n",
    "                ######## FILL IN\n",
    "                # print(s_.shape)å\n",
    "                q_ = self.model.predict(s_.reshape((1,5,5,self.n_state)))[0]\n",
    "                \n",
    "                next_q = self.model.predict(n_s_.reshape((1,5,5,self.n_state)))[0]\n",
    "                q_[a_] = r_ + self.discount * np.max(next_q)\n",
    "                target_q[i] = q_\n",
    "        ######## FILL IN\n",
    "        # HINT: Clip the target to avoid exploiding gradients.. -- clipping is a bit tighter\n",
    "        target_q = np.clip(target_q, -3, 3)\n",
    "\n",
    "        l = self.model.train_on_batch(np.array(input_states), np.array(target_q))\n",
    "\n",
    "\n",
    "        return l\n",
    "\n",
    "    def save(self,name_weights='model.h5',name_model='model.json'):\n",
    "        self.model.save_weights(name_weights, overwrite=True)\n",
    "        with open(name_model, \"w\") as outfile:\n",
    "            json.dump(self.model.to_json(), outfile)\n",
    "            \n",
    "    def load(self,name_weights='model.h5',name_model='model.json'):\n",
    "        with open(name_model, \"r\") as jfile:\n",
    "            model = model_from_json(json.load(jfile))\n",
    "        model.load_weights(name_weights)\n",
    "        model.compile(\"sgd\", \"mse\")\n",
    "        self.model = model\n",
    "\n",
    "            \n",
    "class DQN_FC(DQN):\n",
    "    def __init__(self, *args, lr=0.1,**kwargs):\n",
    "        super(DQN_FC, self).__init__( *args,**kwargs)\n",
    "        \n",
    "        # NN Model\n",
    "        hidden_layer_1 = 25\n",
    "        hidden_layer_2 = 25\n",
    "        model = Sequential()\n",
    "        model.add(Flatten(input_shape=(5, 5, self.n_state)))\n",
    "        model.add(Dense(hidden_layer_1, activation='relu'))\n",
    "        model.add(Dense(hidden_layer_2, activation='relu'))\n",
    "        model.add(Dense(4))\n",
    "        \n",
    "        ####### FILL IN\n",
    "        \n",
    "        model.compile(sgd(lr=lr, decay=1e-4, momentum=0.0), \"mse\")\n",
    "        self.model = model\n",
    "        print(model.summary())\n",
    "        "
   ]
  },
  {
   "cell_type": "code",
   "execution_count": 16,
   "metadata": {
    "colab": {
     "base_uri": "https://localhost:8080/",
     "height": 1534
    },
    "colab_type": "code",
    "id": "FIf5mrmZb5Q2",
    "outputId": "131b95ae-fd00-4a82-b128-ceb7987f57c2"
   },
   "outputs": [
    {
     "name": "stdout",
     "output_type": "stream",
     "text": [
      "WARNING:tensorflow:From /usr/local/lib/python3.6/dist-packages/tensorflow/python/framework/op_def_library.py:263: colocate_with (from tensorflow.python.framework.ops) is deprecated and will be removed in a future version.\n",
      "Instructions for updating:\n",
      "Colocations handled automatically by placer.\n",
      "_________________________________________________________________\n",
      "Layer (type)                 Output Shape              Param #   \n",
      "=================================================================\n",
      "flatten_1 (Flatten)          (None, 50)                0         \n",
      "_________________________________________________________________\n",
      "dense_1 (Dense)              (None, 25)                1275      \n",
      "_________________________________________________________________\n",
      "dense_2 (Dense)              (None, 25)                650       \n",
      "_________________________________________________________________\n",
      "dense_3 (Dense)              (None, 4)                 104       \n",
      "=================================================================\n",
      "Total params: 2,029\n",
      "Trainable params: 2,029\n",
      "Non-trainable params: 0\n",
      "_________________________________________________________________\n",
      "None\n",
      "WARNING:tensorflow:From /usr/local/lib/python3.6/dist-packages/tensorflow/python/ops/math_ops.py:3066: to_int32 (from tensorflow.python.ops.math_ops) is deprecated and will be removed in a future version.\n",
      "Instructions for updating:\n",
      "Use tf.cast instead.\n",
      "3866329088.0\n",
      "Epoch 000/051 | Loss 0.0044 | Win/lose count 5.5/5.0 (0.5)\n",
      "Epoch 001/051 | Loss 0.0014 | Win/lose count 0.5/2.0 (-1.5)\n",
      "Epoch 002/051 | Loss 0.0082 | Win/lose count 2.5/2.0 (0.5)\n",
      "Epoch 003/051 | Loss 0.0104 | Win/lose count 4.0/4.0 (0.0)\n",
      "Epoch 004/051 | Loss 0.0036 | Win/lose count 1.0/3.0 (-2.0)\n",
      "Epoch 005/051 | Loss 0.0094 | Win/lose count 7.5/6.0 (1.5)\n",
      "Epoch 006/051 | Loss 0.0054 | Win/lose count 10.5/4.0 (6.5)\n",
      "Epoch 007/051 | Loss 0.0060 | Win/lose count 2.0/1.0 (1.0)\n",
      "Epoch 008/051 | Loss 0.0687 | Win/lose count 3.5/5.0 (-1.5)\n",
      "Epoch 009/051 | Loss 0.0056 | Win/lose count 2.0/2.0 (0.0)\n",
      "3843981312.0\n",
      "Epoch 010/051 | Loss 0.0067 | Win/lose count 5.5/8.0 (-2.5)\n",
      "Epoch 011/051 | Loss 0.0454 | Win/lose count 1.5/0 (1.5)\n",
      "Epoch 012/051 | Loss 0.0110 | Win/lose count 4.5/2.0 (2.5)\n",
      "Epoch 013/051 | Loss 0.0540 | Win/lose count 3.5/7.0 (-3.5)\n",
      "Epoch 014/051 | Loss 0.0152 | Win/lose count 7.5/5.0 (2.5)\n",
      "Epoch 015/051 | Loss 0.0612 | Win/lose count 6.0/5.0 (1.0)\n",
      "Epoch 016/051 | Loss 0.0043 | Win/lose count 5.0/2.0 (3.0)\n",
      "Epoch 017/051 | Loss 0.0018 | Win/lose count 2.0/3.0 (-1.0)\n",
      "Epoch 018/051 | Loss 0.0081 | Win/lose count 9.0/2.0 (7.0)\n",
      "Epoch 019/051 | Loss 0.0042 | Win/lose count 6.0/6.0 (0.0)\n",
      "3856728064.0\n",
      "Epoch 020/051 | Loss 0.0080 | Win/lose count 9.5/1.0 (8.5)\n",
      "Epoch 021/051 | Loss 0.0094 | Win/lose count 1.5/3.0 (-1.5)\n",
      "Epoch 022/051 | Loss 0.0078 | Win/lose count 8.5/5.0 (3.5)\n",
      "Epoch 023/051 | Loss 0.0073 | Win/lose count 9.0/5.0 (4.0)\n",
      "Epoch 024/051 | Loss 0.0022 | Win/lose count 4.5/1.0 (3.5)\n",
      "Epoch 025/051 | Loss 0.0045 | Win/lose count 6.5/5.0 (1.5)\n",
      "Epoch 026/051 | Loss 0.0051 | Win/lose count 12.0/5.0 (7.0)\n",
      "Epoch 027/051 | Loss 0.0062 | Win/lose count 10.5/1.0 (9.5)\n",
      "Epoch 028/051 | Loss 0.0488 | Win/lose count 6.5/6.0 (0.5)\n",
      "Epoch 029/051 | Loss 0.0044 | Win/lose count 9.5/3.0 (6.5)\n",
      "3811508224.0\n",
      "Epoch 030/051 | Loss 0.0517 | Win/lose count 8.0/5.0 (3.0)\n",
      "Epoch 031/051 | Loss 0.0055 | Win/lose count 8.0/2.0 (6.0)\n",
      "Epoch 032/051 | Loss 0.0052 | Win/lose count 3.0/3.0 (0.0)\n",
      "Epoch 033/051 | Loss 0.0037 | Win/lose count 9.5/3.0 (6.5)\n",
      "Epoch 034/051 | Loss 0.0036 | Win/lose count 11.5/6.0 (5.5)\n",
      "Epoch 035/051 | Loss 0.0011 | Win/lose count 4.0/5.0 (-1.0)\n",
      "Epoch 036/051 | Loss 0.0088 | Win/lose count 9.0/2.0 (7.0)\n",
      "Epoch 037/051 | Loss 0.0078 | Win/lose count 12.0/3.0 (9.0)\n",
      "Epoch 038/051 | Loss 0.0352 | Win/lose count 10.5/3.0 (7.5)\n",
      "Epoch 039/051 | Loss 0.0035 | Win/lose count 10.0/3.0 (7.0)\n",
      "3865968640.0\n",
      "Epoch 040/051 | Loss 0.0064 | Win/lose count 7.0/0 (7.0)\n",
      "Epoch 041/051 | Loss 0.0037 | Win/lose count 8.0/2.0 (6.0)\n",
      "Epoch 042/051 | Loss 0.0065 | Win/lose count 4.5/3.0 (1.5)\n",
      "Epoch 043/051 | Loss 0.0021 | Win/lose count 4.5/0 (4.5)\n",
      "Epoch 044/051 | Loss 0.0034 | Win/lose count 16.0/1.0 (15.0)\n",
      "Epoch 045/051 | Loss 0.0039 | Win/lose count 4.5/3.0 (1.5)\n",
      "Epoch 046/051 | Loss 0.0022 | Win/lose count 3.5/1.0 (2.5)\n",
      "Epoch 047/051 | Loss 0.0030 | Win/lose count 8.0/3.0 (5.0)\n",
      "Epoch 048/051 | Loss 0.0076 | Win/lose count 5.5/6.0 (-0.5)\n",
      "Epoch 049/051 | Loss 0.0024 | Win/lose count 6.0/1.0 (5.0)\n",
      "3791159296.0\n",
      "Epoch 050/051 | Loss 0.0509 | Win/lose count 12.5/2.0 (10.5)\n"
     ]
    },
    {
     "data": {
      "text/html": [
       "<video alt=\"test\" controls>\n",
       "                <source src=\"data:video/mp4;base64,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\" type=\"video/mp4\" />\n",
       "             </video>"
      ],
      "text/plain": [
       "<IPython.core.display.HTML object>"
      ]
     },
     "execution_count": 16,
     "metadata": {
      "tags": []
     },
     "output_type": "execute_result"
    }
   ],
   "source": [
    "epochs_train=51 # set small when debugging\n",
    "epochs_test=10 # set small when debugging\n",
    "T=200\n",
    "env = Environment(grid_size=size, max_time=T, temperature=0.3)\n",
    "agent = DQN_FC(size, lr=.1, epsilon = 0.1, memory_size=2000, batch_size = 32)\n",
    "train(agent, env, epochs_train, prefix='fc_train')\n",
    "HTML(display_videos('fc_train50.mp4'))\n"
   ]
  },
  {
   "cell_type": "markdown",
   "metadata": {
    "colab_type": "text",
    "id": "xMTrP_gqb5Q7"
   },
   "source": [
    "***\n",
    "***\n",
    "__Question 8__ Implement the DQN training algorithm using a CNN (for example, 2 convolutional layers and one final fully connected layer)."
   ]
  },
  {
   "cell_type": "code",
   "execution_count": 0,
   "metadata": {
    "colab": {},
    "colab_type": "code",
    "id": "exi3-hAWb5Q8"
   },
   "outputs": [],
   "source": [
    "class DQN_CNN(DQN):\n",
    "    def __init__(self, *args,lr=0.1,**kwargs):\n",
    "        super(DQN_CNN, self).__init__(*args,**kwargs)\n",
    "        \n",
    "        ###### FILL IN\n",
    "        model = Sequential()\n",
    "        model.add(Conv2D(8, 2, padding='valid', input_shape=(5, 5, self.n_state), activation='relu'))\n",
    "        # model.add(MaxPooling2D())\n",
    "        model.add(Conv2D(16, 2, padding='valid', activation='relu'))\n",
    "        model.add(Flatten())\n",
    "        model.add(Dense(4))\n",
    "        \n",
    "        model.compile(sgd(lr=lr, decay=1e-4, momentum=0.0), \"mse\")\n",
    "        self.model = model\n",
    "        print(model.summary())"
   ]
  },
  {
   "cell_type": "code",
   "execution_count": 18,
   "metadata": {
    "colab": {
     "base_uri": "https://localhost:8080/",
     "height": 1412
    },
    "colab_type": "code",
    "id": "jC1au_BZb5RC",
    "outputId": "8a82d0d8-90d9-410a-d41f-256370e75763"
   },
   "outputs": [
    {
     "name": "stdout",
     "output_type": "stream",
     "text": [
      "_________________________________________________________________\n",
      "Layer (type)                 Output Shape              Param #   \n",
      "=================================================================\n",
      "conv2d_1 (Conv2D)            (None, 4, 4, 8)           72        \n",
      "_________________________________________________________________\n",
      "conv2d_2 (Conv2D)            (None, 3, 3, 16)          528       \n",
      "_________________________________________________________________\n",
      "flatten_2 (Flatten)          (None, 144)               0         \n",
      "_________________________________________________________________\n",
      "dense_4 (Dense)              (None, 4)                 580       \n",
      "=================================================================\n",
      "Total params: 1,180\n",
      "Trainable params: 1,180\n",
      "Non-trainable params: 0\n",
      "_________________________________________________________________\n",
      "None\n",
      "3935830016.0\n",
      "Epoch 000/051 | Loss 0.0068 | Win/lose count 4.0/6.0 (-2.0)\n",
      "Epoch 001/051 | Loss 0.0007 | Win/lose count 3.0/0 (3.0)\n",
      "Epoch 002/051 | Loss 0.0144 | Win/lose count 4.5/7.0 (-2.5)\n",
      "Epoch 003/051 | Loss 0.0126 | Win/lose count 2.5/4.0 (-1.5)\n",
      "Epoch 004/051 | Loss 0.0023 | Win/lose count 3.0/3.0 (0.0)\n",
      "Epoch 005/051 | Loss 0.0058 | Win/lose count 1.0/4.0 (-3.0)\n",
      "Epoch 006/051 | Loss 0.0350 | Win/lose count 3.5/4.0 (-0.5)\n",
      "Epoch 007/051 | Loss 0.0078 | Win/lose count 6.0/4.0 (2.0)\n",
      "Epoch 008/051 | Loss 0.0066 | Win/lose count 7.0/8.0 (-1.0)\n",
      "Epoch 009/051 | Loss 0.0131 | Win/lose count 5.0/2.0 (3.0)\n",
      "3792306176.0\n",
      "Epoch 010/051 | Loss 0.0014 | Win/lose count 4.0/3.0 (1.0)\n",
      "Epoch 011/051 | Loss 0.0508 | Win/lose count 7.0/3.0 (4.0)\n",
      "Epoch 012/051 | Loss 0.0048 | Win/lose count 2.0/0 (2.0)\n",
      "Epoch 013/051 | Loss 0.0038 | Win/lose count 4.5/2.0 (2.5)\n",
      "Epoch 014/051 | Loss 0.0033 | Win/lose count 11.5/1.0 (10.5)\n",
      "Epoch 015/051 | Loss 0.0038 | Win/lose count 6.5/4.0 (2.5)\n",
      "Epoch 016/051 | Loss 0.0043 | Win/lose count 6.0/2.0 (4.0)\n",
      "Epoch 017/051 | Loss 0.0018 | Win/lose count 10.5/6.0 (4.5)\n",
      "Epoch 018/051 | Loss 0.0022 | Win/lose count 14.5/2.0 (12.5)\n",
      "Epoch 019/051 | Loss 0.0049 | Win/lose count 8.5/2.0 (6.5)\n",
      "3818455040.0\n",
      "Epoch 020/051 | Loss 0.0023 | Win/lose count 3.0/0 (3.0)\n",
      "Epoch 021/051 | Loss 0.0036 | Win/lose count 10.5/0 (10.5)\n",
      "Epoch 022/051 | Loss 0.0973 | Win/lose count 2.0/0 (2.0)\n",
      "Epoch 023/051 | Loss 0.0524 | Win/lose count 7.0/0 (7.0)\n",
      "Epoch 024/051 | Loss 0.0016 | Win/lose count 1.5/1.0 (0.5)\n",
      "Epoch 025/051 | Loss 0.0526 | Win/lose count 22.5/2.0 (20.5)\n",
      "Epoch 026/051 | Loss 0.0077 | Win/lose count 20.0/2.0 (18.0)\n",
      "Epoch 027/051 | Loss 0.0022 | Win/lose count 16.0/1.0 (15.0)\n",
      "Epoch 028/051 | Loss 0.0054 | Win/lose count 18.5/2.0 (16.5)\n",
      "Epoch 029/051 | Loss 0.0024 | Win/lose count 13.5/3.0 (10.5)\n",
      "3854139392.0\n",
      "Epoch 030/051 | Loss 0.0027 | Win/lose count 5.5/3.0 (2.5)\n",
      "Epoch 031/051 | Loss 0.0008 | Win/lose count 5.5/0 (5.5)\n",
      "Epoch 032/051 | Loss 0.0116 | Win/lose count 21.5/3.0 (18.5)\n",
      "Epoch 033/051 | Loss 0.0547 | Win/lose count 19.0/4.0 (15.0)\n",
      "Epoch 034/051 | Loss 0.0048 | Win/lose count 16.5/4.0 (12.5)\n",
      "Epoch 035/051 | Loss 0.0021 | Win/lose count 13.5/1.0 (12.5)\n",
      "Epoch 036/051 | Loss 0.0047 | Win/lose count 15.5/1.0 (14.5)\n",
      "Epoch 037/051 | Loss 0.0054 | Win/lose count 16.5/0 (16.5)\n",
      "Epoch 038/051 | Loss 0.0054 | Win/lose count 19.5/1.0 (18.5)\n",
      "Epoch 039/051 | Loss 0.0029 | Win/lose count 15.5/0 (15.5)\n",
      "3691970560.0\n",
      "Epoch 040/051 | Loss 0.0018 | Win/lose count 16.0/2.0 (14.0)\n",
      "Epoch 041/051 | Loss 0.0033 | Win/lose count 12.5/3.0 (9.5)\n",
      "Epoch 042/051 | Loss 0.0009 | Win/lose count 15.5/1.0 (14.5)\n",
      "Epoch 043/051 | Loss 0.0079 | Win/lose count 15.5/2.0 (13.5)\n",
      "Epoch 044/051 | Loss 0.0020 | Win/lose count 14.0/2.0 (12.0)\n",
      "Epoch 045/051 | Loss 0.0017 | Win/lose count 11.5/1.0 (10.5)\n",
      "Epoch 046/051 | Loss 0.0014 | Win/lose count 6.5/2.0 (4.5)\n",
      "Epoch 047/051 | Loss 0.0562 | Win/lose count 9.5/0 (9.5)\n",
      "Epoch 048/051 | Loss 0.0011 | Win/lose count 15.5/1.0 (14.5)\n",
      "Epoch 049/051 | Loss 0.0039 | Win/lose count 10.0/1.0 (9.0)\n",
      "3752067072.0\n",
      "Epoch 050/051 | Loss 0.0557 | Win/lose count 12.0/2.0 (10.0)\n"
     ]
    },
    {
     "data": {
      "text/html": [
       "<video alt=\"test\" controls>\n",
       "                <source src=\"data:video/mp4;base64,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\" type=\"video/mp4\" />\n",
       "             </video>"
      ],
      "text/plain": [
       "<IPython.core.display.HTML object>"
      ]
     },
     "execution_count": 18,
     "metadata": {
      "tags": []
     },
     "output_type": "execute_result"
    }
   ],
   "source": [
    "epochs_train=51 # set small when debugging\n",
    "env = Environment(grid_size=size, max_time=T, temperature=0.3)\n",
    "agent = DQN_CNN(size, lr=.1, epsilon = 0.1, memory_size=2000, batch_size = 32)\n",
    "train(agent,env,epochs_train,prefix='cnn_train')\n",
    "HTML(display_videos('cnn_train50.mp4'))\n"
   ]
  },
  {
   "cell_type": "markdown",
   "metadata": {
    "colab_type": "text",
    "id": "6QCOoVBFb5RG"
   },
   "source": [
    "***\n",
    "***\n",
    "__Question 9__ Test both algorithms and compare their performances. Which issue(s) do you observe? Observe also different behaviors by changing the temperature."
   ]
  },
  {
   "cell_type": "code",
   "execution_count": 19,
   "metadata": {
    "colab": {
     "base_uri": "https://localhost:8080/",
     "height": 2057
    },
    "colab_type": "code",
    "id": "GxnpWtpGb5RH",
    "outputId": "1e1969eb-4e58-4b65-f7a7-e282cb342ba0"
   },
   "outputs": [
    {
     "name": "stdout",
     "output_type": "stream",
     "text": [
      "_________________________________________________________________\n",
      "Layer (type)                 Output Shape              Param #   \n",
      "=================================================================\n",
      "conv2d_3 (Conv2D)            (None, 4, 4, 8)           72        \n",
      "_________________________________________________________________\n",
      "conv2d_4 (Conv2D)            (None, 3, 3, 16)          528       \n",
      "_________________________________________________________________\n",
      "flatten_3 (Flatten)          (None, 144)               0         \n",
      "_________________________________________________________________\n",
      "dense_5 (Dense)              (None, 4)                 580       \n",
      "=================================================================\n",
      "Total params: 1,180\n",
      "Trainable params: 1,180\n",
      "Non-trainable params: 0\n",
      "_________________________________________________________________\n",
      "None\n",
      "_________________________________________________________________\n",
      "Layer (type)                 Output Shape              Param #   \n",
      "=================================================================\n",
      "flatten_4 (Flatten)          (None, 50)                0         \n",
      "_________________________________________________________________\n",
      "dense_6 (Dense)              (None, 25)                1275      \n",
      "_________________________________________________________________\n",
      "dense_7 (Dense)              (None, 25)                650       \n",
      "_________________________________________________________________\n",
      "dense_8 (Dense)              (None, 4)                 104       \n",
      "=================================================================\n",
      "Total params: 2,029\n",
      "Trainable params: 2,029\n",
      "Non-trainable params: 0\n",
      "_________________________________________________________________\n",
      "None\n",
      "Test of the CNN\n",
      "3893854208.0\n",
      "Win/lose count 2.5/1.0. Average score (1.5)\n",
      "3784835072.0\n",
      "Win/lose count 12.0/3.0. Average score (5.25)\n",
      "3875078144.0\n",
      "Win/lose count 8.0/5.0. Average score (4.5)\n",
      "3842146304.0\n",
      "Win/lose count 7.5/2.0. Average score (4.75)\n",
      "3831496704.0\n",
      "Win/lose count 6.5/3.0. Average score (4.5)\n",
      "4064739328.0\n",
      "Win/lose count 3.0/1.0. Average score (4.083333333333333)\n",
      "3805511680.0\n",
      "Win/lose count 6.5/2.0. Average score (4.142857142857143)\n",
      "3800694784.0\n",
      "Win/lose count 17.5/0. Average score (5.8125)\n",
      "3808362496.0\n",
      "Win/lose count 12.0/4.0. Average score (6.055555555555555)\n",
      "3843620864.0\n",
      "Win/lose count 7.5/6.0. Average score (5.6)\n",
      "3919446016.0\n",
      "Win/lose count 2.0/0. Average score (5.2727272727272725)\n",
      "3767599104.0\n",
      "Win/lose count 8.0/7.0. Average score (4.916666666666667)\n",
      "3836444672.0\n",
      "Win/lose count 7.0/2.0. Average score (4.923076923076923)\n",
      "3880288256.0\n",
      "Win/lose count 8.0/2.0. Average score (5.0)\n",
      "3799744512.0\n",
      "Win/lose count 7.0/4.0. Average score (4.866666666666666)\n",
      "3805446144.0\n",
      "Win/lose count 10.0/4.0. Average score (4.9375)\n",
      "3781427200.0\n",
      "Win/lose count 8.5/2.0. Average score (5.029411764705882)\n",
      "3870752768.0\n",
      "Win/lose count 4.5/2.0. Average score (4.888888888888889)\n",
      "3932848128.0\n",
      "Win/lose count 6.0/1.0. Average score (4.894736842105263)\n",
      "3844964352.0\n",
      "Win/lose count 8.5/2.0. Average score (4.975)\n",
      "3897786368.0\n",
      "Win/lose count 5.5/3.0. Average score (4.857142857142857)\n",
      "Final score: 4.857142857142857\n",
      "Test of the FC\n",
      "4014768128.0\n",
      "Win/lose count 1.0/2.0. Average score (-1.0)\n",
      "3855024128.0\n",
      "Win/lose count 5.5/4.0. Average score (0.25)\n",
      "3887988736.0\n",
      "Win/lose count 0.5/5.0. Average score (-1.3333333333333333)\n",
      "3842965504.0\n",
      "Win/lose count 2.0/3.0. Average score (-1.25)\n",
      "3919183872.0\n",
      "Win/lose count 0.5/1.0. Average score (-1.1)\n",
      "3968630784.0\n",
      "Win/lose count 1.0/2.0. Average score (-1.0833333333333333)\n",
      "3867607040.0\n",
      "Win/lose count 2.0/2.0. Average score (-0.9285714285714286)\n",
      "3898245120.0\n",
      "Win/lose count 2.0/6.0. Average score (-1.3125)\n",
      "3917938688.0\n",
      "Win/lose count 1.0/2.0. Average score (-1.2777777777777777)\n",
      "3856629760.0\n",
      "Win/lose count 3.5/3.0. Average score (-1.1)\n",
      "3928981504.0\n",
      "Win/lose count 1.5/4.0. Average score (-1.2272727272727273)\n",
      "3846864896.0\n",
      "Win/lose count 5.0/3.0. Average score (-0.9583333333333334)\n",
      "3803381760.0\n",
      "Win/lose count 5.0/7.0. Average score (-1.0384615384615385)\n",
      "3811606528.0\n",
      "Win/lose count 3.5/6.0. Average score (-1.1428571428571428)\n",
      "3817570304.0\n",
      "Win/lose count 2.5/4.0. Average score (-1.1666666666666667)\n",
      "3895263232.0\n",
      "Win/lose count 5.5/4.0. Average score (-1.0)\n",
      "3761143808.0\n",
      "Win/lose count 2.5/4.0. Average score (-1.0294117647058822)\n",
      "3909124096.0\n",
      "Win/lose count 5.5/1.0. Average score (-0.7222222222222222)\n",
      "3853287424.0\n",
      "Win/lose count 4.0/4.0. Average score (-0.6842105263157895)\n",
      "3856203776.0\n",
      "Win/lose count 4.0/2.0. Average score (-0.55)\n",
      "3894935552.0\n",
      "Win/lose count 2.0/3.0. Average score (-0.5714285714285714)\n",
      "Final score: -0.5714285714285714\n"
     ]
    }
   ],
   "source": [
    "epochs_test = 21\n",
    "env = Environment(grid_size=size, max_time=T,temperature=0.3)\n",
    "agent_cnn = DQN_CNN(size, lr=.1, epsilon = 0.1, memory_size=2000, batch_size = 32)\n",
    "agent_cnn.load(name_weights='cnn_trainmodel.h5',name_model='cnn_trainmodel.json')\n",
    "\n",
    "agent_fc = DQN_FC(size, lr=.1, epsilon = 0.1, memory_size=2000, batch_size = 32)\n",
    "agent_cnn.load(name_weights='fc_trainmodel.h5',name_model='fc_trainmodel.json')\n",
    "print('Test of the CNN')\n",
    "test(agent_cnn,env,epochs_test,prefix='cnn_test')\n",
    "print('Test of the FC')\n",
    "test(agent_fc,env,epochs_test,prefix='fc_test')"
   ]
  },
  {
   "cell_type": "code",
   "execution_count": 0,
   "metadata": {
    "colab": {},
    "colab_type": "code",
    "id": "LhttV7_8f5E8"
   },
   "outputs": [],
   "source": []
  },
  {
   "cell_type": "markdown",
   "metadata": {
    "colab_type": "text",
    "id": "dQSqz2oXf6GO"
   },
   "source": [
    "We get some good results with the two models at training time, but poorer results when testing, probably because we disabled the exploration. Both agents learn a good policy, but they don't explore enought the board, and get stuck in infinite loop. We still get better results with the CNN than with the FC network. "
   ]
  },
  {
   "cell_type": "code",
   "execution_count": 21,
   "metadata": {
    "colab": {
     "base_uri": "https://localhost:8080/",
     "height": 1412
    },
    "colab_type": "code",
    "id": "hGguX-hRb5RN",
    "outputId": "ac719679-adb5-4639-ce5c-f9d00ed158bd"
   },
   "outputs": [
    {
     "name": "stdout",
     "output_type": "stream",
     "text": [
      "_________________________________________________________________\n",
      "Layer (type)                 Output Shape              Param #   \n",
      "=================================================================\n",
      "conv2d_7 (Conv2D)            (None, 4, 4, 8)           72        \n",
      "_________________________________________________________________\n",
      "conv2d_8 (Conv2D)            (None, 3, 3, 16)          528       \n",
      "_________________________________________________________________\n",
      "flatten_6 (Flatten)          (None, 144)               0         \n",
      "_________________________________________________________________\n",
      "dense_10 (Dense)             (None, 4)                 580       \n",
      "=================================================================\n",
      "Total params: 1,180\n",
      "Trainable params: 1,180\n",
      "Non-trainable params: 0\n",
      "_________________________________________________________________\n",
      "None\n",
      "4239785984.0\n",
      "Epoch 000/051 | Loss 0.0227 | Win/lose count 29.5/6.0 (23.5)\n",
      "Epoch 001/051 | Loss 0.1208 | Win/lose count 30.0/9.0 (21.0)\n",
      "Epoch 002/051 | Loss 0.0021 | Win/lose count 26.5/8.0 (18.5)\n",
      "Epoch 003/051 | Loss 0.0087 | Win/lose count 27.5/9.0 (18.5)\n",
      "Epoch 004/051 | Loss 0.0067 | Win/lose count 27.5/10.0 (17.5)\n",
      "Epoch 005/051 | Loss 0.0079 | Win/lose count 30.5/14.0 (16.5)\n",
      "Epoch 006/051 | Loss 0.0062 | Win/lose count 22.0/4.0 (18.0)\n",
      "Epoch 007/051 | Loss 0.0587 | Win/lose count 33.5/13.0 (20.5)\n",
      "Epoch 008/051 | Loss 0.0072 | Win/lose count 23.0/14.0 (9.0)\n",
      "Epoch 009/051 | Loss 0.0055 | Win/lose count 20.5/8.0 (12.5)\n",
      "4083023872.0\n",
      "Epoch 010/051 | Loss 0.0063 | Win/lose count 38.0/8.0 (30.0)\n",
      "Epoch 011/051 | Loss 0.0037 | Win/lose count 37.0/11.0 (26.0)\n",
      "Epoch 012/051 | Loss 0.0067 | Win/lose count 30.5/10.0 (20.5)\n",
      "Epoch 013/051 | Loss 0.0085 | Win/lose count 32.0/17.0 (15.0)\n",
      "Epoch 014/051 | Loss 0.0054 | Win/lose count 29.5/11.0 (18.5)\n",
      "Epoch 015/051 | Loss 0.0024 | Win/lose count 30.5/10.0 (20.5)\n",
      "Epoch 016/051 | Loss 0.0043 | Win/lose count 39.5/5.0 (34.5)\n",
      "Epoch 017/051 | Loss 0.0035 | Win/lose count 35.0/8.0 (27.0)\n",
      "Epoch 018/051 | Loss 0.0045 | Win/lose count 28.5/21.0 (7.5)\n",
      "Epoch 019/051 | Loss 0.0037 | Win/lose count 39.5/17.0 (22.5)\n",
      "4178739200.0\n",
      "Epoch 020/051 | Loss 0.0020 | Win/lose count 28.0/4.0 (24.0)\n",
      "Epoch 021/051 | Loss 0.0675 | Win/lose count 33.0/12.0 (21.0)\n",
      "Epoch 022/051 | Loss 0.0032 | Win/lose count 30.5/10.0 (20.5)\n",
      "Epoch 023/051 | Loss 0.0054 | Win/lose count 30.5/12.0 (18.5)\n",
      "Epoch 024/051 | Loss 0.0017 | Win/lose count 34.0/13.0 (21.0)\n",
      "Epoch 025/051 | Loss 0.0029 | Win/lose count 41.5/11.0 (30.5)\n",
      "Epoch 026/051 | Loss 0.0105 | Win/lose count 32.0/15.0 (17.0)\n",
      "Epoch 027/051 | Loss 0.0684 | Win/lose count 33.5/10.0 (23.5)\n",
      "Epoch 028/051 | Loss 0.0046 | Win/lose count 26.5/19.0 (7.5)\n",
      "Epoch 029/051 | Loss 0.0062 | Win/lose count 34.0/13.0 (21.0)\n",
      "4179296256.0\n",
      "Epoch 030/051 | Loss 0.0087 | Win/lose count 30.5/8.0 (22.5)\n",
      "Epoch 031/051 | Loss 0.0036 | Win/lose count 36.5/9.0 (27.5)\n",
      "Epoch 032/051 | Loss 0.0017 | Win/lose count 35.0/11.0 (24.0)\n",
      "Epoch 033/051 | Loss 0.0079 | Win/lose count 32.5/10.0 (22.5)\n",
      "Epoch 034/051 | Loss 0.0050 | Win/lose count 35.0/12.0 (23.0)\n",
      "Epoch 035/051 | Loss 0.0041 | Win/lose count 21.5/13.0 (8.5)\n",
      "Epoch 036/051 | Loss 0.0027 | Win/lose count 32.5/9.0 (23.5)\n",
      "Epoch 037/051 | Loss 0.0020 | Win/lose count 30.0/21.0 (9.0)\n",
      "Epoch 038/051 | Loss 0.0015 | Win/lose count 28.5/9.0 (19.5)\n",
      "Epoch 039/051 | Loss 0.0035 | Win/lose count 40.5/10.0 (30.5)\n",
      "4153278464.0\n",
      "Epoch 040/051 | Loss 0.0027 | Win/lose count 27.5/7.0 (20.5)\n",
      "Epoch 041/051 | Loss 0.0024 | Win/lose count 31.0/8.0 (23.0)\n",
      "Epoch 042/051 | Loss 0.0664 | Win/lose count 34.5/12.0 (22.5)\n",
      "Epoch 043/051 | Loss 0.0021 | Win/lose count 34.0/10.0 (24.0)\n",
      "Epoch 044/051 | Loss 0.0013 | Win/lose count 35.5/6.0 (29.5)\n",
      "Epoch 045/051 | Loss 0.0532 | Win/lose count 26.5/7.0 (19.5)\n",
      "Epoch 046/051 | Loss 0.0013 | Win/lose count 36.0/10.0 (26.0)\n",
      "Epoch 047/051 | Loss 0.0623 | Win/lose count 29.0/6.0 (23.0)\n",
      "Epoch 048/051 | Loss 0.0019 | Win/lose count 32.5/8.0 (24.5)\n",
      "Epoch 049/051 | Loss 0.0012 | Win/lose count 31.5/8.0 (23.5)\n",
      "4140564480.0\n",
      "Epoch 050/051 | Loss 0.0022 | Win/lose count 44.0/9.0 (35.0)\n"
     ]
    },
    {
     "data": {
      "text/html": [
       "<video alt=\"test\" controls>\n",
       "                <source src=\"data:video/mp4;base64,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\" type=\"video/mp4\" />\n",
       "             </video>"
      ],
      "text/plain": [
       "<IPython.core.display.HTML object>"
      ]
     },
     "execution_count": 21,
     "metadata": {
      "tags": []
     },
     "output_type": "execute_result"
    }
   ],
   "source": [
    "epochs_train=51 # set small when debugging\n",
    "env = Environment(grid_size=size, max_time=T, temperature=0.8)\n",
    "agent = DQN_CNN(size, lr=.1, epsilon = 0.8, memory_size=2000, batch_size = 32)\n",
    "train(agent,env,epochs_train,prefix='cnn_train_temp')\n",
    "HTML(display_videos('cnn_train_temp50.mp4'))"
   ]
  },
  {
   "cell_type": "markdown",
   "metadata": {
    "colab_type": "text",
    "id": "aNZh1HhJb5RR"
   },
   "source": []
  },
  {
   "cell_type": "code",
   "execution_count": 0,
   "metadata": {
    "colab": {},
    "colab_type": "code",
    "id": "yCTHYZcFb5RS",
    "outputId": "53a73693-e0e2-4194-85e4-83ecc34ef2a7"
   },
   "outputs": [
    {
     "data": {
      "text/html": [
       "<video alt=\"test\" controls>\n",
       "                <source src=\"data:video/mp4;base64,AAAAIGZ0eXBpc29tAAACAGlzb21pc28yYXZjMW1wNDEAAAAIZnJlZQAAFr5tZGF0AAACrQYF//+p3EXpvebZSLeWLNgg2SPu73gyNjQgLSBjb3JlIDE1NSByMjkxNyAwYTg0ZDk4IC0gSC4yNjQvTVBFRy00IEFWQyBjb2RlYyAtIENvcHlsZWZ0IDIwMDMtMjAxOCAtIGh0dHA6Ly93d3cudmlkZW9sYW4ub3JnL3gyNjQuaHRtbCAtIG9wdGlvbnM6IGNhYmFjPTEgcmVmPTMgZGVibG9jaz0xOjA6MCBhbmFseXNlPTB4MToweDExMSBtZT1oZXggc3VibWU9NyBwc3k9MSBwc3lfcmQ9MS4wMDowLjAwIG1peGVkX3JlZj0xIG1lX3JhbmdlPTE2IGNocm9tYV9tZT0xIHRyZWxsaXM9MSA4eDhkY3Q9MCBjcW09MCBkZWFkem9uZT0yMSwxMSBmYXN0X3Bza2lwPTEgY2hyb21hX3FwX29mZnNldD00IHRocmVhZHM9NiBsb29rYWhlYWRfdGhyZWFkcz0xIHNsaWNlZF90aHJlYWRzPTAgbnI9MCBkZWNpbWF0ZT0xIGludGVybGFjZWQ9MCBibHVyYXlfY29tcGF0PTAgY29uc3RyYWluZWRfaW50cmE9MCBiZnJhbWVzPTMgYl9weXJhbWlkPTIgYl9hZGFwdD0xIGJfYmlhcz0wIGRpcmVjdD0xIHdlaWdodGI9MSBvcGVuX2dvcD0wIHdlaWdodHA9MiBrZXlpbnQ9MjUwIGtleWludF9taW49MjUgc2NlbmVjdXQ9NDAgaW50cmFfcmVmcmVzaD0wIHJjX2xvb2thaGVhZD00MCByYz1jcmYgbWJ0cmVlPTEgY3JmPTIzLjAgcWNvbXA9MC42MCBxcG1pbj0wIHFwbWF4PTY5IHFwc3RlcD00IGlwX3JhdGlvPTEuNDAgYXE9MToxLjAwAIAAAALmZYiEADf//vaH+BTZWBP+Wb/9DX/cj9uPrP1xYyEE31qvIejAGS+1H+b/rFFs6Z6UB/fgCJQAc24ZwpHZJ46w5MIvVHwKXAT74FNJkWfWMgQvVCkPM7qf31ineHMMlaZnmVaCp0RLF0YYVEGOTN0rXYZBtycnD/AofDnFlGy2efI33sE19smnPwfX1xBsEYgriByXFL46xp79DxGeEsw/Ef7t87DPKo1m9TkBsWtUY3CQd8AAbdyZzA6Sinjp3gYi95w9t3XEKK29vfkF0tdEsZx2AAiLpuVG2B8HKS75Bhi+vnTOglYRsZnBw4xJMzA2iHsYlofoRw8p++W8ZGOMMMYsLQVMShyoT2CltfDHm6NDkdLJ87bAEEwyZeEg4duBhODqZu5Djb8ZpaSx0CRba/qBnRALUww/gcmZJhD5OhszAOsLCA7agLxE8Qwih7RQNCgAGUkjhJ2FhXfl5cwovEJzEk0ne6QbIDKJyWuougBcjaZZwwqtQdOiXcim9Uj/VejCzWTB66NlBzEMKYQvx+w5Ll4ErMF6wITgFQhp7YKnWsZv2fk8oPTQlFasACLFd7yr2ES3Xb/iiDnepexgDbETEsjuaYk89onRpV+vuC+LB+0ppXdSysjkhmzTA5ZtKvt5akvi0/oOPn5Xz+EpDUueufUJr+vwpZJhgO0jhXV029EL1po5PRpD5zM45YQInMxgYqM9JV+uuXA483hv1wXQATxgM/Uap9AOdROqj1dggN1CEH7YMQk0KZfKbNfkAArV1olVmVXKVLsNS5o9hybQYx5YMv+9J9r58cq/6ty1eF0Bc2HXsQwZSnyylJsDFQTHSzRvpCn3YNPh+wsOSMP+lzZliaEFByEXkrnEHwluHL61A+5GnkHw16Oh5mtCDYH0mBuGXfuLawHfF0f5pLvl2zpg2WqMgS4IsBGx/MT5wVowSyn9xNv/N71bbdUylHQrB8pMgrbD+XgAnDn3cQTUEABlQQAAABdBmiJsQ3/+p4QAB8CYOLGpbU/dZ9LcHgAAAA8BnkF5Cv8ABnJAeTA9fPUAAAAcQZpEPCGTKYQ7//6plgAGUgsxaZoA9JefbeUCoAAAABABnmNqQr8ACj2PLcNm1bCBAAAAIEGaaEnhDyZTAhv//qeEAAzdIn+jif5do9OjmWWJkcYNAAAAFUGehkURPC//AAeX7QnLfRYzn6kcxQAAABABnqV0Qr8ACoWjvK2UPZ2BAAAAEAGep2pCvwAG6Stiw1hkrZAAAAAcQZqrSahBaJlMCG///qeEAAWrFaQQif5bJS5tYAAAABJBnslFESwr/wAEl2K9hYL9coEAAAAOAZ7qakK/AASXZMecFhQAAAAeQZrvSahBbJlMCGf//p4QACKiHKtwXc+4buvv5xUgAAAAEEGfDUUVLC//AAVmgEofYR0AAAAOAZ8sdEK/AAS3cd55xqcAAAAQAZ8uakK/AAdBmDyYHr5igQAAABxBmzBJqEFsmUwIZ//+nhAANfIY5/DnxA4f4fmAAAAAGEGbUUnhClJlMCG//qeEABWPRP9SkArtwAAAACBBm3NJ4Q6JlMFNEw3//qeEACCqwLMYIR20i9JTQ/vn+QAAABABn5JqQr8AGwhpdw+2bS2YAAAAGkGblEnhDyZTAhv//qeEAB/fgMGz+5kUJDmfAAAAGUGbtknhDyZTBRE8N//+p4QAFGxWqY/1XhUAAAAPAZ/VakK/ABClSN1nqz9OAAAAGkGb2knhDyZTAhn//p4QAH7U6jcSW+vvt0OBAAAAEEGf+EURPC//ABPqBBShkZkAAAAPAZ4XdEK/ABDbQgMkue2AAAAAEAGeGWpCvwAbB2pbhs2qOIEAAAAYQZobSahBaJlMCGf//p4QAMjIY5+l/cqLAAAAGUGaPEnhClJlMCG//qeEADSurSCET/Lb6oEAAAAnQZpeSeEOiZTBTRMM//6eEADY+yOrzLLGFT8yyYOA8yt+V7nu6m+XAAAAEAGefWpCvwAtdhHkuZ8lTIAAAAAYQZp/SeEPJlMCG//+p4QANzagry5DnHdAAAAAG0GagEnhDyZTAhv//qeEACPfI4BNf4Tgt0JoIQAAAChBmqJJ4Q8mUwURPDf//qeEABbMiNfxCOsJ/+Dg8X/+EjW3F/+f/TvaAAAADwGewWpCvwASpUjdZ6s/DwAAABhBmsNJ4Q8mUwId//6plgASBfuxxz/YZ4AAAAAdQZrnSeEPJlMCHf/+qZYAGygs5QZoFPox9eD3AAEAAAATQZ8FRRE8L/8AH8TqM2Eo8p5G8wAAABABnyR0Qr8AHP4YDJLf67lBAAAAEAGfJmpCvwAsVjxyv7cP6UEAAAArQZsrSahBaJlMCG///qeEAH9+BK5zLK57x+BSpbPwKZ2BPOIz+XZO0DhkWAAAABVBn0lFESwv/wBNc87MDJ+uRPQKsFUAAAAQAZ9odEK/AEF9RInxZijosQAAABABn2pqQr8AaZ1TyYHr28WAAAAAGkGbbEmoQWyZTAh3//6plgBCCjnSaIbweQy8AAAAGkGbkEnhClJlMCHf/qmWAEIKPLg12tiCmvBJAAAAEEGfrkU0TC//AE+ZYJ8brMEAAAAQAZ/NdEK/AGwAADJLf63gQQAAAA8Bn89qQr8AaZK2MKzavEAAAAATQZvUSahBaJlMCHf//qmWAACVgAAAAAxBn/JFESwv/wAAsoEAAAAQAZ4RdEK/AGmsq7vqG7hKEAAAABABnhNqQr8AaZK2MIGn2V4gAAAAE0GaGEmoQWyZTAh3//6plgAAlYEAAAAMQZ42RRUsL/8AALKAAAAAEAGeVXRCvwBprKu76hu4ShEAAAAQAZ5XakK/AGmStjCBp9leIQAAAB5BmlxJqEFsmUwId//+qZYAQgo6IFmgO76VQOH7ng4AAAAQQZ56RRUsL/8AT6gQUoYXmQAAAA8Bnpl0Qr8Aaayru83avEAAAAAQAZ6bakK/AGwdU8mB69vAgQAAABhBmoBJqEFsmUwId//+qZYAQhU4f10RwSUAAAAQQZ6+RRUsL/8AT5lgnxuswAAAABABnt10Qr8AbAAAMkt/reBAAAAADwGe32pCvwBpkrYwrNq8QQAAABNBmsRJqEFsmUwId//+qZYAAJWAAAAADEGe4kUVLC//AACygQAAABABnwF0Qr8Aaayru+obuEoQAAAAEAGfA2pCvwBpkrYwgafZXiEAAAATQZsISahBbJlMCHf//qmWAACVgQAAAAxBnyZFFSwv/wAAsoEAAAAQAZ9FdEK/AGmsq7vqG7hKEQAAABABn0dqQr8AaZK2MIGn2V4gAAAAE0GbTEmoQWyZTAh3//6plgAAlYAAAAAMQZ9qRRUsL/8AALKBAAAAEAGfiXRCvwBprKu76hu4ShAAAAAQAZ+LakK/AGmStjCBp9leIAAAABNBm5BJqEFsmUwId//+qZYAAJWBAAAADEGfrkUVLC//AACygQAAABABn810Qr8Aaayru+obuEoRAAAAEAGfz2pCvwBpkrYwgafZXiAAAAATQZvUSahBbJlMCHf//qmWAACVgAAAAAxBn/JFFSwv/wAAsoEAAAAQAZ4RdEK/AGmsq7vqG7hKEAAAABABnhNqQr8AaZK2MIGn2V4gAAAAE0GaGEmoQWyZTAh3//6plgAAlYEAAAAMQZ42RRUsL/8AALKAAAAAEAGeVXRCvwBprKu76hu4ShEAAAAQAZ5XakK/AGmStjCBp9leIQAAABNBmlxJqEFsmUwId//+qZYAAJWAAAAADEGeekUVLC//AACygQAAABABnpl0Qr8Aaayru+obuEoQAAAAEAGem2pCvwBpkrYwgafZXiEAAAATQZqASahBbJlMCHf//qmWAACVgQAAAAxBnr5FFSwv/wAAsoAAAAAQAZ7ddEK/AGmsq7vqG7hKEAAAABABnt9qQr8AaZK2MIGn2V4hAAAAE0GaxEmoQWyZTAh3//6plgAAlYAAAAAMQZ7iRRUsL/8AALKBAAAAEAGfAXRCvwBprKu76hu4ShAAAAAQAZ8DakK/AGmStjCBp9leIQAAABNBmwhJqEFsmUwId//+qZYAAJWBAAAADEGfJkUVLC//AACygQAAABABn0V0Qr8Aaayru+obuEoRAAAAEAGfR2pCvwBpkrYwgafZXiAAAAATQZtMSahBbJlMCHf//qmWAACVgAAAAAxBn2pFFSwv/wAAsoEAAAAQAZ+JdEK/AGmsq7vqG7hKEAAAABABn4tqQr8AaZK2MIGn2V4gAAAAE0GbkEmoQWyZTAh3//6plgAAlYEAAAAMQZ+uRRUsL/8AALKBAAAAEAGfzXRCvwBprKu76hu4ShEAAAAQAZ/PakK/AGmStjCBp9leIAAAABNBm9RJqEFsmUwId//+qZYAAJWAAAAADEGf8kUVLC//AACygQAAABABnhF0Qr8Aaayru+obuEoQAAAAEAGeE2pCvwBpkrYwgafZXiAAAAATQZoYSahBbJlMCHf//qmWAACVgQAAAAxBnjZFFSwv/wAAsoAAAAAQAZ5VdEK/AGmsq7vqG7hKEQAAABABnldqQr8AaZK2MIGn2V4hAAAAE0GaXEmoQWyZTAh3//6plgAAlYAAAAAMQZ56RRUsL/8AALKBAAAAEAGemXRCvwBprKu76hu4ShAAAAAQAZ6bakK/AGmStjCBp9leIQAAAB5BmoBJqEFsmUwId//+qZYAK776vf5uuKzFpuNVdMEAAAAQQZ6+RRUsL/8AM4HoaQe7MAAAABABnt10Qr8ARXcd5Wyh6WGAAAAADwGe32pCvwBFbWu77veuwQAAABNBmsRJqEFsmUwId//+qZYAAJWAAAAADEGe4kUVLC//AACygQAAABABnwF0Qr8ARYQBz+wW5K7AAAAAEAGfA2pCvwBFbWu6yg3JXYEAAAATQZsISahBbJlMCHf//qmWAACVgQAAAAxBnyZFFSwv/wAAsoEAAAAQAZ9FdEK/AEWEAc/sFuSuwQAAABABn0dqQr8ARW1rusoNyV2AAAAAE0GbTEmoQWyZTAh3//6plgAAlYAAAAAMQZ9qRRUsL/8AALKBAAAAEAGfiXRCvwBFhAHP7BbkrsAAAAAQAZ+LakK/AEVta7rKDcldgAAAABNBm5BJqEFsmUwId//+qZYAAJWBAAAADEGfrkUVLC//AACygQAAABABn810Qr8ARYQBz+wW5K7BAAAAEAGfz2pCvwBFbWu6yg3JXYAAAAATQZvUSahBbJlMCHf//qmWAACVgAAAAAxBn/JFFSwv/wAAsoEAAAAQAZ4RdEK/AEWEAc/sFuSuwAAAABABnhNqQr8ARW1rusoNyV2AAAAAEkGaGEmoQWyZTAhv//6nhAABJwAAAAxBnjZFFSwv/wAAsoAAAAAQAZ5VdEK/AEWEAc/sFuSuwQAAABABnldqQr8ARW1rusoNyV2BAAAAG0GaWUmoQWyZTAh3//6plgArfyDNAH2A/7qdwAAAABJBmn1J4QpSZTAh3/6plgAAlYEAAAAMQZ6bRTRML/8AALKAAAAAEAGeunRCvwBsLKu6wFnSucEAAAAQAZ68akK/AESVI72ePt3mgQAAABNBmqFJqEFomUwId//+qZYAAJWAAAAADEGe30URLC//AACygAAAABABnv50Qr8ARJUjvwAfbvNBAAAAEAGe4GpCvwBElSO9nj7d5oAAAAATQZrlSahBbJlMCHf//qmWAACVgQAAAAxBnwNFFSwv/wAAsoAAAAAQAZ8idEK/AESVI78AH27zQQAAABABnyRqQr8ARJUjvZ4+3eaBAAAAHUGbJ0moQWyZTBRMO//+qZYAK776vvRNTqEG4OtPAAAADwGfRmpCvwBFZW6UaQ8UNwAAABhBm0tJ4QpSZTAh3/6plgArgTo/32l9z58AAAAQQZ9pRTRML/8AM4q7v83pMAAAAA8Bn4h0Qr8ALFGEBklzA4EAAAAPAZ+KakK/AEV2eW4bNqcbAAAAE0Gbj0moQWiZTAh3//6plgAAlYAAAAAMQZ+tRREsL/8AALKBAAAAEAGfzHRCvwBElSO/AB9u80EAAAAQAZ/OakK/AESVI72ePt3mgQAAABNBm9NJqEFsmUwId//+qZYAAJWAAAAADEGf8UUVLC//AACygAAAABABnhB0Qr8ARJUjvwAfbvNBAAAAEAGeEmpCvwBElSO9nj7d5oAAAAATQZoXSahBbJlMCHf//qmWAACVgAAAAAxBnjVFFSwv/wAAsoEAAAAQAZ5UdEK/AESVI78AH27zQAAAABABnlZqQr8ARJUjvZ4+3eaBAAAAE0GaW0moQWyZTAh3//6plgAAlYEAAAAMQZ55RRUsL/8AALKAAAAAEAGemHRCvwBElSO/AB9u80EAAAAQAZ6aakK/AESVI72ePt3mgAAAABxBmp9JqEFsmUwIb//+p4QAVr3U/cyMLZihHL59AAAAEEGevUUVLC//ADOKu7/N6TEAAAAPAZ7cdEK/AEVtGLgPy3TAAAAADwGe3mpCvwBFZW6UaQ8UNgAAABlBmsNJqEFsmUwIb//+p4QAVkFB3b7B+uHnAAAAEEGe4UUVLC//ADOKu7/N6TAAAAAPAZ8AdEK/ACxRhAZJcwOBAAAADwGfAmpCvwBFdnluGzanGwAAABJBmwdJqEFsmUwIZ//+nhAABH0AAAAMQZ8lRRUsL/8AALKBAAAAEAGfRHRCvwBElSO/AB9u80EAAAAQAZ9GakK/AESVI72ePt3mgQAAABtBm0lLqEIQWyRGCCgH8gH9h4BRMK/+OEAAEXAAAAAkAZ9oakK/Aq9j7UHE3arDSSblqoYHLLXQOsN6YLe1ShxcEdRnAAAMaG1vb3YAAABsbXZoZAAAAAAAAAAAAAAAAAAAA+gAAB+QAAEAAAEAAAAAAAAAAAAAAAABAAAAAAAAAAAAAAAAAAAAAQAAAAAAAAAAAAAAAAAAQAAAAAAAAAAAAAAAAAAAAAAAAAAAAAAAAAAAAAAAAAIAAAuSdHJhawAAAFx0a2hkAAAAAwAAAAAAAAAAAAAAAQAAAAAAAB+QAAAAAAAAAAAAAAAAAAAAAAABAAAAAAAAAAAAAAAAAAAAAQAAAAAAAAAAAAAAAAAAQAAAAAEQAAABEAAAAAAAJGVkdHMAAAAcZWxzdAAAAAAAAAABAAAfkAAABAAAAQAAAAALCm1kaWEAAAAgbWRoZAAAAAAAAAAAAAAAAAAAMgAAAZQAVcQAAAAAAC1oZGxyAAAAAAAAAAB2aWRlAAAAAAAAAAAAAAAAVmlkZW9IYW5kbGVyAAAACrVtaW5mAAAAFHZtaGQAAAABAAAAAAAAAAAAAAAkZGluZgAAABxkcmVmAAAAAAAAAAEAAAAMdXJsIAAAAAEAAAp1c3RibAAAAJVzdHNkAAAAAAAAAAEAAACFYXZjMQAAAAAAAAABAAAAAAAAAAAAAAAAAAAAAAEQARAASAAAAEgAAAAAAAAAAQAAAAAAAAAAAAAAAAAAAAAAAAAAAAAAAAAAAAAAAAAAABj//wAAAC9hdmNDAfQADf/hABdn9AANkZsoIhHQgAAAAwCAAAAZB4oUywEABWjr48RIAAAAGHN0dHMAAAAAAAAAAQAAAMoAAAIAAAAAFHN0c3MAAAAAAAAAAQAAAAEAAAZAY3R0cwAAAAAAAADGAAAAAQAABAAAAAABAAAGAAAAAAEAAAIAAAAAAQAABgAAAAABAAACAAAAAAEAAAoAAAAAAQAABAAAAAABAAAAAAAAAAEAAAIAAAAAAQAACAAAAAACAAACAAAAAAEAAAoAAAAAAQAABAAAAAABAAAAAAAAAAEAAAIAAAAAAgAABAAAAAABAAAGAAAAAAEAAAIAAAAAAQAABAAAAAABAAAGAAAAAAEAAAIAAAAAAQAACgAAAAABAAAEAAAAAAEAAAAAAAAAAQAAAgAAAAACAAAEAAAAAAEAAAYAAAAAAQAAAgAAAAACAAAEAAAAAAEAAAYAAAAAAQAAAgAAAAABAAAEAAAAAAEAAAoAAAAAAQAABAAAAAABAAAAAAAAAAEAAAIAAAAAAQAACgAAAAABAAAEAAAAAAEAAAAAAAAAAQAAAgAAAAABAAAEAAAAAAEAAAoAAAAAAQAABAAAAAABAAAAAAAAAAEAAAIAAAAAAQAACgAAAAABAAAEAAAAAAEAAAAAAAAAAQAAAgAAAAABAAAKAAAAAAEAAAQAAAAAAQAAAAAAAAABAAACAAAAAAEAAAoAAAAAAQAABAAAAAABAAAAAAAAAAEAAAIAAAAAAQAACgAAAAABAAAEAAAAAAEAAAAAAAAAAQAAAgAAAAABAAAKAAAAAAEAAAQAAAAAAQAAAAAAAAABAAACAAAAAAEAAAoAAAAAAQAABAAAAAABAAAAAAAAAAEAAAIAAAAAAQAACgAAAAABAAAEAAAAAAEAAAAAAAAAAQAAAgAAAAABAAAKAAAAAAEAAAQAAAAAAQAAAAAAAAABAAACAAAAAAEAAAoAAAAAAQAABAAAAAABAAAAAAAAAAEAAAIAAAAAAQAACgAAAAABAAAEAAAAAAEAAAAAAAAAAQAAAgAAAAABAAAKAAAAAAEAAAQAAAAAAQAAAAAAAAABAAACAAAAAAEAAAoAAAAAAQAABAAAAAABAAAAAAAAAAEAAAIAAAAAAQAACgAAAAABAAAEAAAAAAEAAAAAAAAAAQAAAgAAAAABAAAKAAAAAAEAAAQAAAAAAQAAAAAAAAABAAACAAAAAAEAAAoAAAAAAQAABAAAAAABAAAAAAAAAAEAAAIAAAAAAQAACgAAAAABAAAEAAAAAAEAAAAAAAAAAQAAAgAAAAABAAAKAAAAAAEAAAQAAAAAAQAAAAAAAAABAAACAAAAAAEAAAoAAAAAAQAABAAAAAABAAAAAAAAAAEAAAIAAAAAAQAACgAAAAABAAAEAAAAAAEAAAAAAAAAAQAAAgAAAAABAAAKAAAAAAEAAAQAAAAAAQAAAAAAAAABAAACAAAAAAEAAAoAAAAAAQAABAAAAAABAAAAAAAAAAEAAAIAAAAAAQAACgAAAAABAAAEAAAAAAEAAAAAAAAAAQAAAgAAAAABAAAKAAAAAAEAAAQAAAAAAQAAAAAAAAABAAACAAAAAAEAAAoAAAAAAQAABAAAAAABAAAAAAAAAAEAAAIAAAAAAQAACgAAAAABAAAEAAAAAAEAAAAAAAAAAQAAAgAAAAABAAAKAAAAAAEAAAQAAAAAAQAAAAAAAAABAAACAAAAAAEAAAQAAAAAAQAACgAAAAABAAAEAAAAAAEAAAAAAAAAAQAAAgAAAAABAAAKAAAAAAEAAAQAAAAAAQAAAAAAAAABAAACAAAAAAEAAAoAAAAAAQAABAAAAAABAAAAAAAAAAEAAAIAAAAAAQAABgAAAAABAAACAAAAAAEAAAoAAAAAAQAABAAAAAABAAAAAAAAAAEAAAIAAAAAAQAACgAAAAABAAAEAAAAAAEAAAAAAAAAAQAAAgAAAAABAAAKAAAAAAEAAAQAAAAAAQAAAAAAAAABAAACAAAAAAEAAAoAAAAAAQAABAAAAAABAAAAAAAAAAEAAAIAAAAAAQAACgAAAAABAAAEAAAAAAEAAAAAAAAAAQAAAgAAAAABAAAKAAAAAAEAAAQAAAAAAQAAAAAAAAABAAACAAAAAAEAAAoAAAAAAQAABAAAAAABAAAAAAAAAAEAAAIAAAAAAQAACgAAAAABAAAEAAAAAAEAAAAAAAAAAQAAAgAAAAABAAAGAAAAAAEAAAIAAAAAHHN0c2MAAAAAAAAAAQAAAAEAAADKAAAAAQAAAzxzdHN6AAAAAAAAAAAAAADKAAAFmwAAABsAAAATAAAAIAAAABQAAAAkAAAAGQAAABQAAAAUAAAAIAAAABYAAAASAAAAIgAAABQAAAASAAAAFAAAACAAAAAcAAAAJAAAABQAAAAeAAAAHQAAABMAAAAeAAAAFAAAABMAAAAUAAAAHAAAAB0AAAArAAAAFAAAABwAAAAfAAAALAAAABMAAAAcAAAAIQAAABcAAAAUAAAAFAAAAC8AAAAZAAAAFAAAABQAAAAeAAAAHgAAABQAAAAUAAAAEwAAABcAAAAQAAAAFAAAABQAAAAXAAAAEAAAABQAAAAUAAAAIgAAABQAAAATAAAAFAAAABwAAAAUAAAAFAAAABMAAAAXAAAAEAAAABQAAAAUAAAAFwAAABAAAAAUAAAAFAAAABcAAAAQAAAAFAAAABQAAAAXAAAAEAAAABQAAAAUAAAAFwAAABAAAAAUAAAAFAAAABcAAAAQAAAAFAAAABQAAAAXAAAAEAAAABQAAAAUAAAAFwAAABAAAAAUAAAAFAAAABcAAAAQAAAAFAAAABQAAAAXAAAAEAAAABQAAAAUAAAAFwAAABAAAAAUAAAAFAAAABcAAAAQAAAAFAAAABQAAAAXAAAAEAAAABQAAAAUAAAAFwAAABAAAAAUAAAAFAAAABcAAAAQAAAAFAAAABQAAAAiAAAAFAAAABQAAAATAAAAFwAAABAAAAAUAAAAFAAAABcAAAAQAAAAFAAAABQAAAAXAAAAEAAAABQAAAAUAAAAFwAAABAAAAAUAAAAFAAAABcAAAAQAAAAFAAAABQAAAAWAAAAEAAAABQAAAAUAAAAHwAAABYAAAAQAAAAFAAAABQAAAAXAAAAEAAAABQAAAAUAAAAFwAAABAAAAAUAAAAFAAAACEAAAATAAAAHAAAABQAAAATAAAAEwAAABcAAAAQAAAAFAAAABQAAAAXAAAAEAAAABQAAAAUAAAAFwAAABAAAAAUAAAAFAAAABcAAAAQAAAAFAAAABQAAAAgAAAAFAAAABMAAAATAAAAHQAAABQAAAATAAAAEwAAABYAAAAQAAAAFAAAABQAAAAfAAAAKAAAABRzdGNvAAAAAAAAAAEAAAAwAAAAYnVkdGEAAABabWV0YQAAAAAAAAAhaGRscgAAAAAAAAAAbWRpcmFwcGwAAAAAAAAAAAAAAAAtaWxzdAAAACWpdG9vAAAAHWRhdGEAAAABAAAAAExhdmY1OC4yMC4xMDA=\" type=\"video/mp4\" />\n",
       "             </video>"
      ],
      "text/plain": [
       "<IPython.core.display.HTML object>"
      ]
     },
     "execution_count": 51,
     "metadata": {
      "tags": []
     },
     "output_type": "execute_result"
    }
   ],
   "source": [
    "HTML(display_videos('cnn_test10.mp4'))"
   ]
  },
  {
   "cell_type": "code",
   "execution_count": 0,
   "metadata": {
    "colab": {},
    "colab_type": "code",
    "id": "yWjnvB2ib5RW",
    "outputId": "9f430e2d-8462-4902-8b34-afb8e320dade"
   },
   "outputs": [
    {
     "data": {
      "text/html": [
       "<video alt=\"test\" controls>\n",
       "                <source src=\"data:video/mp4;base64,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\" type=\"video/mp4\" />\n",
       "             </video>"
      ],
      "text/plain": [
       "<IPython.core.display.HTML object>"
      ]
     },
     "execution_count": 50,
     "metadata": {
      "tags": []
     },
     "output_type": "execute_result"
    }
   ],
   "source": [
    "HTML(display_videos('fc_test10.mp4'))"
   ]
  },
  {
   "cell_type": "markdown",
   "metadata": {
    "colab_type": "text",
    "id": "eaU2D1O-b5Ra"
   },
   "source": []
  },
  {
   "cell_type": "markdown",
   "metadata": {
    "colab_type": "text",
    "id": "k6SL4g3eb5Rb"
   },
   "source": [
    "***\n",
    "\n",
    "The algorithm tends to not explore the map which can be an issue. We propose two ideas in order to encourage exploration:\n",
    "1. Incorporating a decreasing $\\epsilon$-greedy exploration. You can use the method ```set_epsilon```\n",
    "2. Append via the environment a new state that describes if a cell has been visited or not\n",
    "\n",
    "***\n",
    "__Question 10__ Design a new ```train_explore``` function and environment class ```EnvironmentExploring``` to tackle the issue of exploration.\n",
    "\n"
   ]
  },
  {
   "cell_type": "code",
   "execution_count": 0,
   "metadata": {
    "colab": {},
    "colab_type": "code",
    "id": "AT4oHLLbb5Rc"
   },
   "outputs": [],
   "source": [
    "def train_explore(agent,env,epoch,prefix=''):\n",
    "    # Number of won games\n",
    "    score = 0\n",
    "    loss = 0\n",
    "    \n",
    "    ini_eps = 0.6\n",
    "    final_eps = 0.1\n",
    "    for e in range(epoch):\n",
    "        # At each epoch, we restart to a fresh game and get the initial state\n",
    "        state = env.reset()\n",
    "        # This assumes that the games will terminate\n",
    "        game_over = False\n",
    "        agent.set_epsilon(final_eps + ini_eps * (1 - e/epoch))\n",
    "\n",
    "\n",
    "        win = 0\n",
    "        lose = 0\n",
    "\n",
    "        while not game_over:\n",
    "            # The agent performs an action\n",
    "            action = agent.act(state)\n",
    "            \n",
    "            # Apply an action to the environment, get the next state, the reward\n",
    "            # and if the games end\n",
    "            prev_state = state\n",
    "            state, reward, game_over = env.act(action)\n",
    "\n",
    "            # Update the counters\n",
    "            if reward > 0:\n",
    "                win = win + reward\n",
    "            if reward < 0:\n",
    "                lose = lose -reward\n",
    "\n",
    "            # Apply the reinforcement strategy\n",
    "            loss = agent.reinforce(prev_state, state,  action, reward, game_over)\n",
    "\n",
    "        # Save as a mp4\n",
    "        if e % 10 == 0:\n",
    "            env.draw(prefix+str(e))\n",
    "\n",
    "        # Update stats\n",
    "        score += win-lose\n",
    "\n",
    "        print(\"Epoch {:03d}/{:03d} | Loss {:.4f} | Win/lose count {}/{} ({})\"\n",
    "              .format(e, epoch, loss, win, lose, win-lose))\n",
    "        agent.save(name_weights=prefix+'model.h5',name_model=prefix+'model.json')\n",
    "class EnvironmentExploring(object):\n",
    "    def __init__(self, grid_size=10, max_time=500, temperature=0.1):\n",
    "        grid_size = grid_size+4\n",
    "        self.grid_size = grid_size\n",
    "        self.max_time = max_time\n",
    "        self.temperature = temperature\n",
    "\n",
    "        #board on which one plays\n",
    "        self.board = np.zeros((grid_size,grid_size))\n",
    "        self.position = np.zeros((grid_size,grid_size))\n",
    "\n",
    "        # coordinate of the cat\n",
    "        self.x = 0\n",
    "        self.y = 1\n",
    "\n",
    "        # self time\n",
    "        self.t = 0\n",
    "\n",
    "        self.scale=16\n",
    "\n",
    "        self.to_draw = np.zeros((max_time+2, grid_size*self.scale, grid_size*self.scale, 3))\n",
    "\n",
    "\n",
    "    def draw(self,e):\n",
    "       \n",
    "        skvideo.io.vwrite(str(e) + '.mp4', self.to_draw)\n",
    "\n",
    "    def get_frame(self,t):\n",
    "        b = np.zeros((self.grid_size,self.grid_size,3))+128\n",
    "        b[self.board>0,0] = 256\n",
    "        b[self.board < 0, 2] = 256\n",
    "        b[self.x,self.y,:]=256\n",
    "        b[-2:,:,:]=0\n",
    "        b[:,-2:,:]=0\n",
    "        b[:2,:,:]=0\n",
    "        b[:,:2,:]=0\n",
    "        \n",
    "        b =  cv2.resize(b, None, fx=self.scale, fy=self.scale, interpolation=cv2.INTER_NEAREST)\n",
    "\n",
    "        self.to_draw[t,:,:,:]=b\n",
    "\n",
    "\n",
    "    def act(self, action):\n",
    "        \"\"\"This function returns the new state, reward and decides if the\n",
    "        game ends.\"\"\"\n",
    "\n",
    "        self.get_frame(int(self.t))\n",
    "\n",
    "        self.position = np.zeros((self.grid_size, self.grid_size))\n",
    "\n",
    "        self.position[0:2,:]= -1\n",
    "        self.position[:,0:2] = -1\n",
    "        self.position[-2:, :] = -1\n",
    "        self.position[-2:, :] = -1\n",
    "\n",
    "        self.position[self.x, self.y] = 1\n",
    "        if action == 0:\n",
    "            if self.x == self.grid_size-3:\n",
    "                self.x = self.x-1\n",
    "            else:\n",
    "                self.x = self.x + 1\n",
    "        elif action == 1:\n",
    "            if self.x == 2:\n",
    "                self.x = self.x+1\n",
    "            else:\n",
    "                self.x = self.x-1\n",
    "        elif action == 2:\n",
    "            if self.y == self.grid_size - 3:\n",
    "                self.y = self.y - 1\n",
    "            else:\n",
    "                self.y = self.y + 1\n",
    "        elif action == 3:\n",
    "            if self.y == 2:\n",
    "                self.y = self.y + 1\n",
    "            else:\n",
    "                self.y = self.y - 1\n",
    "        else:\n",
    "            RuntimeError('Error: action not recognized')\n",
    "\n",
    "        self.t = self.t + 1\n",
    "        reward = 0\n",
    "        if train:\n",
    "            reward = -self.malus_position[self.x, self.y]\n",
    "        reward = self.board[self.x, self.y]\n",
    "        self.board[self.x, self.y] = 0\n",
    "        game_over = self.t > self.max_time\n",
    "        self.malus_position[self.x, self.y] = 0.1\n",
    "        state = np.concatenate((self.malus_position.reshape(self.grid_size, self.grid_size,1),\n",
    "                        self.board.reshape(self.grid_size, self.grid_size,1),\n",
    "                        self.position.reshape(self.grid_size, self.grid_size,1)),axis=2)\n",
    "        state = state[self.x-2:self.x+3,self.y-2:self.y+3,:]\n",
    "\n",
    "        return state, reward, game_over\n",
    "\n",
    "    def reset(self):\n",
    "        \"\"\"This function resets the game and returns the initial state\"\"\"\n",
    "\n",
    "        self.x = np.random.randint(3, self.grid_size-3, size=1)[0]\n",
    "        self.y = np.random.randint(3, self.grid_size-3, size=1)[0]\n",
    "\n",
    "\n",
    "        bonus = 0.5*np.random.binomial(1,self.temperature,size=self.grid_size**2)\n",
    "        bonus = bonus.reshape(self.grid_size,self.grid_size)\n",
    "\n",
    "        malus = -1.0*np.random.binomial(1,self.temperature,size=self.grid_size**2)\n",
    "        malus = malus.reshape(self.grid_size, self.grid_size)\n",
    "\n",
    "        self.to_draw = np.zeros((self.max_time+2, self.grid_size*self.scale, self.grid_size*self.scale, 3))\n",
    "\n",
    "\n",
    "        malus[bonus>0]=0\n",
    "\n",
    "        self.board = bonus + malus\n",
    "        self.malus_position = np.zeros((self.grid_size, self.grid_size))\n",
    "        self.position = np.zeros((self.grid_size, self.grid_size))\n",
    "        self.position[0:2,:]= -1\n",
    "        self.position[:,0:2] = -1\n",
    "        self.position[-2:, :] = -1\n",
    "        self.position[-2:, :] = -1\n",
    "        self.board[self.x,self.y] = 0\n",
    "        self.t = 0\n",
    "\n",
    "        state = np.concatenate((self.malus_position.reshape(self.grid_size, self.grid_size, 1),\n",
    "                               self.board.reshape(self.grid_size, self.grid_size,1),\n",
    "                                self.position.reshape(self.grid_size, self.grid_size,1)),axis=2)\n",
    "\n",
    "        state = state[self.x - 2:self.x + 3, self.y - 2:self.y + 3, :]\n",
    "        # print(state.shape)\n",
    "        return state\n",
    "    \n",
    "   "
   ]
  },
  {
   "cell_type": "code",
   "execution_count": 0,
   "metadata": {
    "colab": {},
    "colab_type": "code",
    "id": "XTM-lhclb5Rf",
    "outputId": "5872fb08-53d4-4449-bd79-39756f1e0fcd"
   },
   "outputs": [
    {
     "name": "stdout",
     "output_type": "stream",
     "text": [
      "_________________________________________________________________\n",
      "Layer (type)                 Output Shape              Param #   \n",
      "=================================================================\n",
      "conv2d_31 (Conv2D)           (None, 4, 4, 8)           104       \n",
      "_________________________________________________________________\n",
      "conv2d_32 (Conv2D)           (None, 3, 3, 16)          528       \n",
      "_________________________________________________________________\n",
      "flatten_16 (Flatten)         (None, 144)               0         \n",
      "_________________________________________________________________\n",
      "dense_16 (Dense)             (None, 4)                 580       \n",
      "=================================================================\n",
      "Total params: 1,212\n",
      "Trainable params: 1,212\n",
      "Non-trainable params: 0\n",
      "_________________________________________________________________\n",
      "None\n",
      "Epoch 000/051 | Loss 0.0313 | Win/lose count 11.0/19.0 (-8.0)\n",
      "Epoch 001/051 | Loss 0.0892 | Win/lose count 9.0/18.0 (-9.0)\n",
      "Epoch 002/051 | Loss 0.0688 | Win/lose count 18.0/7.0 (11.0)\n",
      "Epoch 003/051 | Loss 0.0046 | Win/lose count 5.5/2.0 (3.5)\n",
      "Epoch 004/051 | Loss 0.0028 | Win/lose count 8.0/5.0 (3.0)\n",
      "Epoch 005/051 | Loss 0.0037 | Win/lose count 15.0/12.0 (3.0)\n",
      "Epoch 006/051 | Loss 0.0699 | Win/lose count 8.0/6.0 (2.0)\n",
      "Epoch 007/051 | Loss 0.0097 | Win/lose count 10.5/9.0 (1.5)\n",
      "Epoch 008/051 | Loss 0.0065 | Win/lose count 4.0/1.0 (3.0)\n",
      "Epoch 009/051 | Loss 0.0032 | Win/lose count 7.5/6.0 (1.5)\n",
      "Epoch 010/051 | Loss 0.0051 | Win/lose count 7.5/5.0 (2.5)\n",
      "Epoch 011/051 | Loss 0.0032 | Win/lose count 14.5/9.0 (5.5)\n",
      "Epoch 012/051 | Loss 0.0016 | Win/lose count 9.0/7.0 (2.0)\n",
      "Epoch 013/051 | Loss 0.0080 | Win/lose count 16.0/12.0 (4.0)\n",
      "Epoch 014/051 | Loss 0.0042 | Win/lose count 7.5/8.0 (-0.5)\n",
      "Epoch 015/051 | Loss 0.0041 | Win/lose count 14.0/9.0 (5.0)\n",
      "Epoch 016/051 | Loss 0.0028 | Win/lose count 13.0/4.0 (9.0)\n",
      "Epoch 017/051 | Loss 0.0008 | Win/lose count 5.5/5.0 (0.5)\n",
      "Epoch 018/051 | Loss 0.0060 | Win/lose count 13.5/12.0 (1.5)\n",
      "Epoch 019/051 | Loss 0.0011 | Win/lose count 5.0/10.0 (-5.0)\n",
      "Epoch 020/051 | Loss 0.0038 | Win/lose count 13.5/7.0 (6.5)\n",
      "Epoch 021/051 | Loss 0.0024 | Win/lose count 12.0/10.0 (2.0)\n",
      "Epoch 022/051 | Loss 0.0038 | Win/lose count 10.0/6.0 (4.0)\n",
      "Epoch 023/051 | Loss 0.0049 | Win/lose count 10.5/14.0 (-3.5)\n",
      "Epoch 024/051 | Loss 0.0023 | Win/lose count 11.5/7.0 (4.5)\n",
      "Epoch 025/051 | Loss 0.0659 | Win/lose count 17.0/7.0 (10.0)\n",
      "Epoch 026/051 | Loss 0.0030 | Win/lose count 16.0/7.0 (9.0)\n",
      "Epoch 027/051 | Loss 0.0082 | Win/lose count 16.5/12.0 (4.5)\n",
      "Epoch 028/051 | Loss 0.0066 | Win/lose count 8.5/5.0 (3.5)\n",
      "Epoch 029/051 | Loss 0.0013 | Win/lose count 10.0/5.0 (5.0)\n",
      "Epoch 030/051 | Loss 0.0010 | Win/lose count 16.0/7.0 (9.0)\n",
      "Epoch 031/051 | Loss 0.0048 | Win/lose count 11.0/7.0 (4.0)\n",
      "Epoch 032/051 | Loss 0.0014 | Win/lose count 14.5/7.0 (7.5)\n",
      "Epoch 033/051 | Loss 0.0012 | Win/lose count 10.5/5.0 (5.5)\n",
      "Epoch 034/051 | Loss 0.0033 | Win/lose count 22.5/6.0 (16.5)\n",
      "Epoch 035/051 | Loss 0.0015 | Win/lose count 22.0/5.0 (17.0)\n",
      "Epoch 036/051 | Loss 0.0666 | Win/lose count 14.0/2.0 (12.0)\n",
      "Epoch 037/051 | Loss 0.0634 | Win/lose count 14.0/7.0 (7.0)\n",
      "Epoch 038/051 | Loss 0.0014 | Win/lose count 14.0/3.0 (11.0)\n",
      "Epoch 039/051 | Loss 0.0015 | Win/lose count 12.5/2.0 (10.5)\n",
      "Epoch 040/051 | Loss 0.0020 | Win/lose count 10.5/8.0 (2.5)\n",
      "Epoch 041/051 | Loss 0.0414 | Win/lose count 6.0/3.0 (3.0)\n",
      "Epoch 042/051 | Loss 0.0013 | Win/lose count 11.5/7.0 (4.5)\n",
      "Epoch 043/051 | Loss 0.0027 | Win/lose count 18.5/5.0 (13.5)\n",
      "Epoch 044/051 | Loss 0.0020 | Win/lose count 13.5/6.0 (7.5)\n",
      "Epoch 045/051 | Loss 0.0521 | Win/lose count 18.0/4.0 (14.0)\n",
      "Epoch 046/051 | Loss 0.0016 | Win/lose count 22.5/5.0 (17.5)\n",
      "Epoch 047/051 | Loss 0.0014 | Win/lose count 16.0/4.0 (12.0)\n",
      "Epoch 048/051 | Loss 0.0017 | Win/lose count 19.5/7.0 (12.5)\n",
      "Epoch 049/051 | Loss 0.0066 | Win/lose count 14.0/2.0 (12.0)\n",
      "Epoch 050/051 | Loss 0.0070 | Win/lose count 18.5/3.0 (15.5)\n"
     ]
    },
    {
     "data": {
      "text/html": [
       "<video alt=\"test\" controls>\n",
       "                <source src=\"data:video/mp4;base64,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\" type=\"video/mp4\" />\n",
       "             </video>"
      ],
      "text/plain": [
       "<IPython.core.display.HTML object>"
      ]
     },
     "execution_count": 63,
     "metadata": {
      "tags": []
     },
     "output_type": "execute_result"
    }
   ],
   "source": [
    "# Training\n",
    "epochs_train=51\n",
    "env = EnvironmentExploring(grid_size=size, max_time=T, temperature=0.3)\n",
    "agent = DQN_CNN(size, lr=.1, epsilon = 0.2, memory_size=2000, batch_size = 32,n_state=3)\n",
    "train_explore(agent, env, epochs_train, prefix='cnn_train_explore')\n",
    "HTML(display_videos('cnn_train_explore50.mp4'))"
   ]
  },
  {
   "cell_type": "code",
   "execution_count": 0,
   "metadata": {
    "colab": {},
    "colab_type": "code",
    "id": "er5dGvTob5Rk",
    "outputId": "9b40e9f6-970d-411d-84b7-d12504df9572"
   },
   "outputs": [
    {
     "name": "stdout",
     "output_type": "stream",
     "text": [
      "Win/lose count 11.5/4.0. Average score (7.5)\n",
      "Win/lose count 15.5/3.0. Average score (10.0)\n",
      "Win/lose count 11.5/4.0. Average score (9.166666666666666)\n",
      "Win/lose count 18.0/1.0. Average score (11.125)\n",
      "Win/lose count 24.0/5.0. Average score (12.7)\n",
      "Win/lose count 14.0/3.0. Average score (12.416666666666666)\n",
      "Win/lose count 6.0/4.0. Average score (10.928571428571429)\n",
      "Win/lose count 21.5/3.0. Average score (11.875)\n",
      "Win/lose count 16.0/2.0. Average score (12.11111111111111)\n",
      "Win/lose count 19.5/5.0. Average score (12.35)\n",
      "Win/lose count 15.5/1.0. Average score (12.545454545454545)\n",
      "Final score: 12.545454545454545\n"
     ]
    },
    {
     "data": {
      "text/html": [
       "<video alt=\"test\" controls>\n",
       "                <source src=\"data:video/mp4;base64,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\" type=\"video/mp4\" />\n",
       "             </video>"
      ],
      "text/plain": [
       "<IPython.core.display.HTML object>"
      ]
     },
     "execution_count": 66,
     "metadata": {
      "tags": []
     },
     "output_type": "execute_result"
    }
   ],
   "source": [
    "# Evaluation\n",
    "epochs_test = 11\n",
    "test(agent,env,epochs_test,prefix='cnn_test_explore')\n",
    "HTML(display_videos('cnn_test_explore10.mp4'))"
   ]
  },
  {
   "cell_type": "markdown",
   "metadata": {
    "colab_type": "text",
    "id": "dTMOIB71b5Rp"
   },
   "source": [
    "We implement these two tricks, the agent seems to explore more the board and we get better results than with the previous models. "
   ]
  },
  {
   "cell_type": "markdown",
   "metadata": {
    "colab_type": "text",
    "id": "TowdbhDYb5Rq"
   },
   "source": [
    "***\n",
    "***\n",
    "__BONUS question__ Use the expert DQN from the previous question to generate some winning games. Train a model that mimicks its behavior. Compare the performances."
   ]
  },
  {
   "cell_type": "markdown",
   "metadata": {
    "colab_type": "text",
    "id": "wBV5ZFIpb5Rr"
   },
   "source": []
  },
  {
   "cell_type": "markdown",
   "metadata": {
    "colab_type": "text",
    "id": "up0nAHYtb5Rr"
   },
   "source": [
    "***"
   ]
  }
 ],
 "metadata": {
  "colab": {
   "name": "DQN_project_MVA.ipynb",
   "provenance": [],
   "toc_visible": true,
   "version": "0.3.2"
  },
  "kernelspec": {
   "display_name": "Python 3",
   "language": "python",
   "name": "python3"
  },
  "language_info": {
   "codemirror_mode": {
    "name": "ipython",
    "version": 3
   },
   "file_extension": ".py",
   "mimetype": "text/x-python",
   "name": "python",
   "nbconvert_exporter": "python",
   "pygments_lexer": "ipython3",
   "version": "3.6.4"
  }
 },
 "nbformat": 4,
 "nbformat_minor": 1
}
